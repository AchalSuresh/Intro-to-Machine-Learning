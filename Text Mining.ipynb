{
  "nbformat": 4,
  "nbformat_minor": 0,
  "metadata": {
    "colab": {
      "name": "Assignment6.ipynb",
      "provenance": [],
      "collapsed_sections": []
    },
    "kernelspec": {
      "name": "python3",
      "display_name": "Python 3"
    },
    "widgets": {
      "application/vnd.jupyter.widget-state+json": {
        "4952b5b5f71e4f719ecdd9f05b07d132": {
          "model_module": "@jupyter-widgets/controls",
          "model_name": "HBoxModel",
          "state": {
            "_view_name": "HBoxView",
            "_dom_classes": [],
            "_model_name": "HBoxModel",
            "_view_module": "@jupyter-widgets/controls",
            "_model_module_version": "1.5.0",
            "_view_count": null,
            "_view_module_version": "1.5.0",
            "box_style": "",
            "layout": "IPY_MODEL_83842d5d30724c61a4789d78602b56ec",
            "_model_module": "@jupyter-widgets/controls",
            "children": [
              "IPY_MODEL_e1ac045b56dc4aefa6191f31b50a5c04",
              "IPY_MODEL_ad7954b42d3d417993240b6a1f228259"
            ]
          }
        },
        "83842d5d30724c61a4789d78602b56ec": {
          "model_module": "@jupyter-widgets/base",
          "model_name": "LayoutModel",
          "state": {
            "_view_name": "LayoutView",
            "grid_template_rows": null,
            "right": null,
            "justify_content": null,
            "_view_module": "@jupyter-widgets/base",
            "overflow": null,
            "_model_module_version": "1.2.0",
            "_view_count": null,
            "flex_flow": null,
            "width": null,
            "min_width": null,
            "border": null,
            "align_items": null,
            "bottom": null,
            "_model_module": "@jupyter-widgets/base",
            "top": null,
            "grid_column": null,
            "overflow_y": null,
            "overflow_x": null,
            "grid_auto_flow": null,
            "grid_area": null,
            "grid_template_columns": null,
            "flex": null,
            "_model_name": "LayoutModel",
            "justify_items": null,
            "grid_row": null,
            "max_height": null,
            "align_content": null,
            "visibility": null,
            "align_self": null,
            "height": null,
            "min_height": null,
            "padding": null,
            "grid_auto_rows": null,
            "grid_gap": null,
            "max_width": null,
            "order": null,
            "_view_module_version": "1.2.0",
            "grid_template_areas": null,
            "object_position": null,
            "object_fit": null,
            "grid_auto_columns": null,
            "margin": null,
            "display": null,
            "left": null
          }
        },
        "e1ac045b56dc4aefa6191f31b50a5c04": {
          "model_module": "@jupyter-widgets/controls",
          "model_name": "IntProgressModel",
          "state": {
            "_view_name": "ProgressView",
            "style": "IPY_MODEL_e983a8779d39479888adab368977e260",
            "_dom_classes": [],
            "description": "Dl Completed...: 100%",
            "_model_name": "IntProgressModel",
            "bar_style": "success",
            "max": 1,
            "_view_module": "@jupyter-widgets/controls",
            "_model_module_version": "1.5.0",
            "value": 1,
            "_view_count": null,
            "_view_module_version": "1.5.0",
            "orientation": "horizontal",
            "min": 0,
            "description_tooltip": null,
            "_model_module": "@jupyter-widgets/controls",
            "layout": "IPY_MODEL_4afdc1cc2e704ee09abcefe7cdc6bc4c"
          }
        },
        "ad7954b42d3d417993240b6a1f228259": {
          "model_module": "@jupyter-widgets/controls",
          "model_name": "HTMLModel",
          "state": {
            "_view_name": "HTMLView",
            "style": "IPY_MODEL_5ec17fac357847cc83c0d5170cd8a379",
            "_dom_classes": [],
            "description": "",
            "_model_name": "HTMLModel",
            "placeholder": "​",
            "_view_module": "@jupyter-widgets/controls",
            "_model_module_version": "1.5.0",
            "value": " 1/1 [00:05&lt;00:00,  5.35s/ url]",
            "_view_count": null,
            "_view_module_version": "1.5.0",
            "description_tooltip": null,
            "_model_module": "@jupyter-widgets/controls",
            "layout": "IPY_MODEL_6dfa72357e3c49bfb9cd71e4a4204cda"
          }
        },
        "e983a8779d39479888adab368977e260": {
          "model_module": "@jupyter-widgets/controls",
          "model_name": "ProgressStyleModel",
          "state": {
            "_view_name": "StyleView",
            "_model_name": "ProgressStyleModel",
            "description_width": "initial",
            "_view_module": "@jupyter-widgets/base",
            "_model_module_version": "1.5.0",
            "_view_count": null,
            "_view_module_version": "1.2.0",
            "bar_color": null,
            "_model_module": "@jupyter-widgets/controls"
          }
        },
        "4afdc1cc2e704ee09abcefe7cdc6bc4c": {
          "model_module": "@jupyter-widgets/base",
          "model_name": "LayoutModel",
          "state": {
            "_view_name": "LayoutView",
            "grid_template_rows": null,
            "right": null,
            "justify_content": null,
            "_view_module": "@jupyter-widgets/base",
            "overflow": null,
            "_model_module_version": "1.2.0",
            "_view_count": null,
            "flex_flow": null,
            "width": null,
            "min_width": null,
            "border": null,
            "align_items": null,
            "bottom": null,
            "_model_module": "@jupyter-widgets/base",
            "top": null,
            "grid_column": null,
            "overflow_y": null,
            "overflow_x": null,
            "grid_auto_flow": null,
            "grid_area": null,
            "grid_template_columns": null,
            "flex": null,
            "_model_name": "LayoutModel",
            "justify_items": null,
            "grid_row": null,
            "max_height": null,
            "align_content": null,
            "visibility": null,
            "align_self": null,
            "height": null,
            "min_height": null,
            "padding": null,
            "grid_auto_rows": null,
            "grid_gap": null,
            "max_width": null,
            "order": null,
            "_view_module_version": "1.2.0",
            "grid_template_areas": null,
            "object_position": null,
            "object_fit": null,
            "grid_auto_columns": null,
            "margin": null,
            "display": null,
            "left": null
          }
        },
        "5ec17fac357847cc83c0d5170cd8a379": {
          "model_module": "@jupyter-widgets/controls",
          "model_name": "DescriptionStyleModel",
          "state": {
            "_view_name": "StyleView",
            "_model_name": "DescriptionStyleModel",
            "description_width": "",
            "_view_module": "@jupyter-widgets/base",
            "_model_module_version": "1.5.0",
            "_view_count": null,
            "_view_module_version": "1.2.0",
            "_model_module": "@jupyter-widgets/controls"
          }
        },
        "6dfa72357e3c49bfb9cd71e4a4204cda": {
          "model_module": "@jupyter-widgets/base",
          "model_name": "LayoutModel",
          "state": {
            "_view_name": "LayoutView",
            "grid_template_rows": null,
            "right": null,
            "justify_content": null,
            "_view_module": "@jupyter-widgets/base",
            "overflow": null,
            "_model_module_version": "1.2.0",
            "_view_count": null,
            "flex_flow": null,
            "width": null,
            "min_width": null,
            "border": null,
            "align_items": null,
            "bottom": null,
            "_model_module": "@jupyter-widgets/base",
            "top": null,
            "grid_column": null,
            "overflow_y": null,
            "overflow_x": null,
            "grid_auto_flow": null,
            "grid_area": null,
            "grid_template_columns": null,
            "flex": null,
            "_model_name": "LayoutModel",
            "justify_items": null,
            "grid_row": null,
            "max_height": null,
            "align_content": null,
            "visibility": null,
            "align_self": null,
            "height": null,
            "min_height": null,
            "padding": null,
            "grid_auto_rows": null,
            "grid_gap": null,
            "max_width": null,
            "order": null,
            "_view_module_version": "1.2.0",
            "grid_template_areas": null,
            "object_position": null,
            "object_fit": null,
            "grid_auto_columns": null,
            "margin": null,
            "display": null,
            "left": null
          }
        },
        "6cde11155ebb402081f80042fa66f7f8": {
          "model_module": "@jupyter-widgets/controls",
          "model_name": "HBoxModel",
          "state": {
            "_view_name": "HBoxView",
            "_dom_classes": [],
            "_model_name": "HBoxModel",
            "_view_module": "@jupyter-widgets/controls",
            "_model_module_version": "1.5.0",
            "_view_count": null,
            "_view_module_version": "1.5.0",
            "box_style": "",
            "layout": "IPY_MODEL_2670f2b9118148dd9503eb3f88deadac",
            "_model_module": "@jupyter-widgets/controls",
            "children": [
              "IPY_MODEL_d121cdabf47a49faa5eb628e5c047867",
              "IPY_MODEL_984845187f6249ecb7a5a29ad84b5fcc"
            ]
          }
        },
        "2670f2b9118148dd9503eb3f88deadac": {
          "model_module": "@jupyter-widgets/base",
          "model_name": "LayoutModel",
          "state": {
            "_view_name": "LayoutView",
            "grid_template_rows": null,
            "right": null,
            "justify_content": null,
            "_view_module": "@jupyter-widgets/base",
            "overflow": null,
            "_model_module_version": "1.2.0",
            "_view_count": null,
            "flex_flow": null,
            "width": null,
            "min_width": null,
            "border": null,
            "align_items": null,
            "bottom": null,
            "_model_module": "@jupyter-widgets/base",
            "top": null,
            "grid_column": null,
            "overflow_y": null,
            "overflow_x": null,
            "grid_auto_flow": null,
            "grid_area": null,
            "grid_template_columns": null,
            "flex": null,
            "_model_name": "LayoutModel",
            "justify_items": null,
            "grid_row": null,
            "max_height": null,
            "align_content": null,
            "visibility": null,
            "align_self": null,
            "height": null,
            "min_height": null,
            "padding": null,
            "grid_auto_rows": null,
            "grid_gap": null,
            "max_width": null,
            "order": null,
            "_view_module_version": "1.2.0",
            "grid_template_areas": null,
            "object_position": null,
            "object_fit": null,
            "grid_auto_columns": null,
            "margin": null,
            "display": null,
            "left": null
          }
        },
        "d121cdabf47a49faa5eb628e5c047867": {
          "model_module": "@jupyter-widgets/controls",
          "model_name": "IntProgressModel",
          "state": {
            "_view_name": "ProgressView",
            "style": "IPY_MODEL_8c9a33ada01a4dff9e235711469cc397",
            "_dom_classes": [],
            "description": "Dl Size...: 100%",
            "_model_name": "IntProgressModel",
            "bar_style": "success",
            "max": 1,
            "_view_module": "@jupyter-widgets/controls",
            "_model_module_version": "1.5.0",
            "value": 1,
            "_view_count": null,
            "_view_module_version": "1.5.0",
            "orientation": "horizontal",
            "min": 0,
            "description_tooltip": null,
            "_model_module": "@jupyter-widgets/controls",
            "layout": "IPY_MODEL_724ff73886154cfdbe2899201f284b76"
          }
        },
        "984845187f6249ecb7a5a29ad84b5fcc": {
          "model_module": "@jupyter-widgets/controls",
          "model_name": "HTMLModel",
          "state": {
            "_view_name": "HTMLView",
            "style": "IPY_MODEL_80c490d988e247ccb3d836b5d31af73e",
            "_dom_classes": [],
            "description": "",
            "_model_name": "HTMLModel",
            "placeholder": "​",
            "_view_module": "@jupyter-widgets/controls",
            "_model_module_version": "1.5.0",
            "value": " 80/80 [00:05&lt;00:00, 15.09 MiB/s]",
            "_view_count": null,
            "_view_module_version": "1.5.0",
            "description_tooltip": null,
            "_model_module": "@jupyter-widgets/controls",
            "layout": "IPY_MODEL_82b7f755488b4653bc1335e23bd154e6"
          }
        },
        "8c9a33ada01a4dff9e235711469cc397": {
          "model_module": "@jupyter-widgets/controls",
          "model_name": "ProgressStyleModel",
          "state": {
            "_view_name": "StyleView",
            "_model_name": "ProgressStyleModel",
            "description_width": "initial",
            "_view_module": "@jupyter-widgets/base",
            "_model_module_version": "1.5.0",
            "_view_count": null,
            "_view_module_version": "1.2.0",
            "bar_color": null,
            "_model_module": "@jupyter-widgets/controls"
          }
        },
        "724ff73886154cfdbe2899201f284b76": {
          "model_module": "@jupyter-widgets/base",
          "model_name": "LayoutModel",
          "state": {
            "_view_name": "LayoutView",
            "grid_template_rows": null,
            "right": null,
            "justify_content": null,
            "_view_module": "@jupyter-widgets/base",
            "overflow": null,
            "_model_module_version": "1.2.0",
            "_view_count": null,
            "flex_flow": null,
            "width": null,
            "min_width": null,
            "border": null,
            "align_items": null,
            "bottom": null,
            "_model_module": "@jupyter-widgets/base",
            "top": null,
            "grid_column": null,
            "overflow_y": null,
            "overflow_x": null,
            "grid_auto_flow": null,
            "grid_area": null,
            "grid_template_columns": null,
            "flex": null,
            "_model_name": "LayoutModel",
            "justify_items": null,
            "grid_row": null,
            "max_height": null,
            "align_content": null,
            "visibility": null,
            "align_self": null,
            "height": null,
            "min_height": null,
            "padding": null,
            "grid_auto_rows": null,
            "grid_gap": null,
            "max_width": null,
            "order": null,
            "_view_module_version": "1.2.0",
            "grid_template_areas": null,
            "object_position": null,
            "object_fit": null,
            "grid_auto_columns": null,
            "margin": null,
            "display": null,
            "left": null
          }
        },
        "80c490d988e247ccb3d836b5d31af73e": {
          "model_module": "@jupyter-widgets/controls",
          "model_name": "DescriptionStyleModel",
          "state": {
            "_view_name": "StyleView",
            "_model_name": "DescriptionStyleModel",
            "description_width": "",
            "_view_module": "@jupyter-widgets/base",
            "_model_module_version": "1.5.0",
            "_view_count": null,
            "_view_module_version": "1.2.0",
            "_model_module": "@jupyter-widgets/controls"
          }
        },
        "82b7f755488b4653bc1335e23bd154e6": {
          "model_module": "@jupyter-widgets/base",
          "model_name": "LayoutModel",
          "state": {
            "_view_name": "LayoutView",
            "grid_template_rows": null,
            "right": null,
            "justify_content": null,
            "_view_module": "@jupyter-widgets/base",
            "overflow": null,
            "_model_module_version": "1.2.0",
            "_view_count": null,
            "flex_flow": null,
            "width": null,
            "min_width": null,
            "border": null,
            "align_items": null,
            "bottom": null,
            "_model_module": "@jupyter-widgets/base",
            "top": null,
            "grid_column": null,
            "overflow_y": null,
            "overflow_x": null,
            "grid_auto_flow": null,
            "grid_area": null,
            "grid_template_columns": null,
            "flex": null,
            "_model_name": "LayoutModel",
            "justify_items": null,
            "grid_row": null,
            "max_height": null,
            "align_content": null,
            "visibility": null,
            "align_self": null,
            "height": null,
            "min_height": null,
            "padding": null,
            "grid_auto_rows": null,
            "grid_gap": null,
            "max_width": null,
            "order": null,
            "_view_module_version": "1.2.0",
            "grid_template_areas": null,
            "object_position": null,
            "object_fit": null,
            "grid_auto_columns": null,
            "margin": null,
            "display": null,
            "left": null
          }
        },
        "71f5471a168c49a7a72666680ba2725a": {
          "model_module": "@jupyter-widgets/controls",
          "model_name": "HBoxModel",
          "state": {
            "_view_name": "HBoxView",
            "_dom_classes": [],
            "_model_name": "HBoxModel",
            "_view_module": "@jupyter-widgets/controls",
            "_model_module_version": "1.5.0",
            "_view_count": null,
            "_view_module_version": "1.5.0",
            "box_style": "",
            "layout": "IPY_MODEL_d947de25ef0140578e770238927005dd",
            "_model_module": "@jupyter-widgets/controls",
            "children": [
              "IPY_MODEL_2d25a20388f849349400d1b9c1dfb973",
              "IPY_MODEL_ad5a160409044254aa4fb50ad304981e"
            ]
          }
        },
        "d947de25ef0140578e770238927005dd": {
          "model_module": "@jupyter-widgets/base",
          "model_name": "LayoutModel",
          "state": {
            "_view_name": "LayoutView",
            "grid_template_rows": null,
            "right": null,
            "justify_content": null,
            "_view_module": "@jupyter-widgets/base",
            "overflow": null,
            "_model_module_version": "1.2.0",
            "_view_count": null,
            "flex_flow": null,
            "width": null,
            "min_width": null,
            "border": null,
            "align_items": null,
            "bottom": null,
            "_model_module": "@jupyter-widgets/base",
            "top": null,
            "grid_column": null,
            "overflow_y": null,
            "overflow_x": null,
            "grid_auto_flow": null,
            "grid_area": null,
            "grid_template_columns": null,
            "flex": null,
            "_model_name": "LayoutModel",
            "justify_items": null,
            "grid_row": null,
            "max_height": null,
            "align_content": null,
            "visibility": null,
            "align_self": null,
            "height": null,
            "min_height": null,
            "padding": null,
            "grid_auto_rows": null,
            "grid_gap": null,
            "max_width": null,
            "order": null,
            "_view_module_version": "1.2.0",
            "grid_template_areas": null,
            "object_position": null,
            "object_fit": null,
            "grid_auto_columns": null,
            "margin": null,
            "display": null,
            "left": null
          }
        },
        "2d25a20388f849349400d1b9c1dfb973": {
          "model_module": "@jupyter-widgets/controls",
          "model_name": "IntProgressModel",
          "state": {
            "_view_name": "ProgressView",
            "style": "IPY_MODEL_faf45e20b8814397b7d84d7b6f91654c",
            "_dom_classes": [],
            "description": "",
            "_model_name": "IntProgressModel",
            "bar_style": "info",
            "max": 1,
            "_view_module": "@jupyter-widgets/controls",
            "_model_module_version": "1.5.0",
            "value": 1,
            "_view_count": null,
            "_view_module_version": "1.5.0",
            "orientation": "horizontal",
            "min": 0,
            "description_tooltip": null,
            "_model_module": "@jupyter-widgets/controls",
            "layout": "IPY_MODEL_147c1124cf7c473abf181de27ee89034"
          }
        },
        "ad5a160409044254aa4fb50ad304981e": {
          "model_module": "@jupyter-widgets/controls",
          "model_name": "HTMLModel",
          "state": {
            "_view_name": "HTMLView",
            "style": "IPY_MODEL_0cd8ae40b9e74815af0fb87835202a52",
            "_dom_classes": [],
            "description": "",
            "_model_name": "HTMLModel",
            "placeholder": "​",
            "_view_module": "@jupyter-widgets/controls",
            "_model_module_version": "1.5.0",
            "value": " 25000/0 [00:35&lt;00:00, 882.52 examples/s]",
            "_view_count": null,
            "_view_module_version": "1.5.0",
            "description_tooltip": null,
            "_model_module": "@jupyter-widgets/controls",
            "layout": "IPY_MODEL_2c9563e7ecbb4f61af066fa37cc86ec4"
          }
        },
        "faf45e20b8814397b7d84d7b6f91654c": {
          "model_module": "@jupyter-widgets/controls",
          "model_name": "ProgressStyleModel",
          "state": {
            "_view_name": "StyleView",
            "_model_name": "ProgressStyleModel",
            "description_width": "initial",
            "_view_module": "@jupyter-widgets/base",
            "_model_module_version": "1.5.0",
            "_view_count": null,
            "_view_module_version": "1.2.0",
            "bar_color": null,
            "_model_module": "@jupyter-widgets/controls"
          }
        },
        "147c1124cf7c473abf181de27ee89034": {
          "model_module": "@jupyter-widgets/base",
          "model_name": "LayoutModel",
          "state": {
            "_view_name": "LayoutView",
            "grid_template_rows": null,
            "right": null,
            "justify_content": null,
            "_view_module": "@jupyter-widgets/base",
            "overflow": null,
            "_model_module_version": "1.2.0",
            "_view_count": null,
            "flex_flow": null,
            "width": null,
            "min_width": null,
            "border": null,
            "align_items": null,
            "bottom": null,
            "_model_module": "@jupyter-widgets/base",
            "top": null,
            "grid_column": null,
            "overflow_y": null,
            "overflow_x": null,
            "grid_auto_flow": null,
            "grid_area": null,
            "grid_template_columns": null,
            "flex": null,
            "_model_name": "LayoutModel",
            "justify_items": null,
            "grid_row": null,
            "max_height": null,
            "align_content": null,
            "visibility": null,
            "align_self": null,
            "height": null,
            "min_height": null,
            "padding": null,
            "grid_auto_rows": null,
            "grid_gap": null,
            "max_width": null,
            "order": null,
            "_view_module_version": "1.2.0",
            "grid_template_areas": null,
            "object_position": null,
            "object_fit": null,
            "grid_auto_columns": null,
            "margin": null,
            "display": null,
            "left": null
          }
        },
        "0cd8ae40b9e74815af0fb87835202a52": {
          "model_module": "@jupyter-widgets/controls",
          "model_name": "DescriptionStyleModel",
          "state": {
            "_view_name": "StyleView",
            "_model_name": "DescriptionStyleModel",
            "description_width": "",
            "_view_module": "@jupyter-widgets/base",
            "_model_module_version": "1.5.0",
            "_view_count": null,
            "_view_module_version": "1.2.0",
            "_model_module": "@jupyter-widgets/controls"
          }
        },
        "2c9563e7ecbb4f61af066fa37cc86ec4": {
          "model_module": "@jupyter-widgets/base",
          "model_name": "LayoutModel",
          "state": {
            "_view_name": "LayoutView",
            "grid_template_rows": null,
            "right": null,
            "justify_content": null,
            "_view_module": "@jupyter-widgets/base",
            "overflow": null,
            "_model_module_version": "1.2.0",
            "_view_count": null,
            "flex_flow": null,
            "width": null,
            "min_width": null,
            "border": null,
            "align_items": null,
            "bottom": null,
            "_model_module": "@jupyter-widgets/base",
            "top": null,
            "grid_column": null,
            "overflow_y": null,
            "overflow_x": null,
            "grid_auto_flow": null,
            "grid_area": null,
            "grid_template_columns": null,
            "flex": null,
            "_model_name": "LayoutModel",
            "justify_items": null,
            "grid_row": null,
            "max_height": null,
            "align_content": null,
            "visibility": null,
            "align_self": null,
            "height": null,
            "min_height": null,
            "padding": null,
            "grid_auto_rows": null,
            "grid_gap": null,
            "max_width": null,
            "order": null,
            "_view_module_version": "1.2.0",
            "grid_template_areas": null,
            "object_position": null,
            "object_fit": null,
            "grid_auto_columns": null,
            "margin": null,
            "display": null,
            "left": null
          }
        },
        "3c5da87ae0dd4ca0b4d61ef2a0fc3378": {
          "model_module": "@jupyter-widgets/controls",
          "model_name": "HBoxModel",
          "state": {
            "_view_name": "HBoxView",
            "_dom_classes": [],
            "_model_name": "HBoxModel",
            "_view_module": "@jupyter-widgets/controls",
            "_model_module_version": "1.5.0",
            "_view_count": null,
            "_view_module_version": "1.5.0",
            "box_style": "",
            "layout": "IPY_MODEL_f437ea84ad7d408796642cd9888a8fda",
            "_model_module": "@jupyter-widgets/controls",
            "children": [
              "IPY_MODEL_7f0247d554ab48d3aca04780d9e08a49",
              "IPY_MODEL_4051e02e261545c59e2c46dbee41ece1"
            ]
          }
        },
        "f437ea84ad7d408796642cd9888a8fda": {
          "model_module": "@jupyter-widgets/base",
          "model_name": "LayoutModel",
          "state": {
            "_view_name": "LayoutView",
            "grid_template_rows": null,
            "right": null,
            "justify_content": null,
            "_view_module": "@jupyter-widgets/base",
            "overflow": null,
            "_model_module_version": "1.2.0",
            "_view_count": null,
            "flex_flow": null,
            "width": null,
            "min_width": null,
            "border": null,
            "align_items": null,
            "bottom": null,
            "_model_module": "@jupyter-widgets/base",
            "top": null,
            "grid_column": null,
            "overflow_y": null,
            "overflow_x": null,
            "grid_auto_flow": null,
            "grid_area": null,
            "grid_template_columns": null,
            "flex": null,
            "_model_name": "LayoutModel",
            "justify_items": null,
            "grid_row": null,
            "max_height": null,
            "align_content": null,
            "visibility": null,
            "align_self": null,
            "height": null,
            "min_height": null,
            "padding": null,
            "grid_auto_rows": null,
            "grid_gap": null,
            "max_width": null,
            "order": null,
            "_view_module_version": "1.2.0",
            "grid_template_areas": null,
            "object_position": null,
            "object_fit": null,
            "grid_auto_columns": null,
            "margin": null,
            "display": null,
            "left": null
          }
        },
        "7f0247d554ab48d3aca04780d9e08a49": {
          "model_module": "@jupyter-widgets/controls",
          "model_name": "IntProgressModel",
          "state": {
            "_view_name": "ProgressView",
            "style": "IPY_MODEL_ad892f1e3f61498e88f818cf101768fb",
            "_dom_classes": [],
            "description": " 52%",
            "_model_name": "IntProgressModel",
            "bar_style": "danger",
            "max": 25000,
            "_view_module": "@jupyter-widgets/controls",
            "_model_module_version": "1.5.0",
            "value": 13002,
            "_view_count": null,
            "_view_module_version": "1.5.0",
            "orientation": "horizontal",
            "min": 0,
            "description_tooltip": null,
            "_model_module": "@jupyter-widgets/controls",
            "layout": "IPY_MODEL_73f1fa0f237d454aa802422624411170"
          }
        },
        "4051e02e261545c59e2c46dbee41ece1": {
          "model_module": "@jupyter-widgets/controls",
          "model_name": "HTMLModel",
          "state": {
            "_view_name": "HTMLView",
            "style": "IPY_MODEL_ee58caddec904ef7a613c5e735433fef",
            "_dom_classes": [],
            "description": "",
            "_model_name": "HTMLModel",
            "placeholder": "​",
            "_view_module": "@jupyter-widgets/controls",
            "_model_module_version": "1.5.0",
            "value": " 13002/25000 [00:00&lt;00:00, 130018.88 examples/s]",
            "_view_count": null,
            "_view_module_version": "1.5.0",
            "description_tooltip": null,
            "_model_module": "@jupyter-widgets/controls",
            "layout": "IPY_MODEL_cfc827687c9d40f39a2e25cb50fc8157"
          }
        },
        "ad892f1e3f61498e88f818cf101768fb": {
          "model_module": "@jupyter-widgets/controls",
          "model_name": "ProgressStyleModel",
          "state": {
            "_view_name": "StyleView",
            "_model_name": "ProgressStyleModel",
            "description_width": "initial",
            "_view_module": "@jupyter-widgets/base",
            "_model_module_version": "1.5.0",
            "_view_count": null,
            "_view_module_version": "1.2.0",
            "bar_color": null,
            "_model_module": "@jupyter-widgets/controls"
          }
        },
        "73f1fa0f237d454aa802422624411170": {
          "model_module": "@jupyter-widgets/base",
          "model_name": "LayoutModel",
          "state": {
            "_view_name": "LayoutView",
            "grid_template_rows": null,
            "right": null,
            "justify_content": null,
            "_view_module": "@jupyter-widgets/base",
            "overflow": null,
            "_model_module_version": "1.2.0",
            "_view_count": null,
            "flex_flow": null,
            "width": null,
            "min_width": null,
            "border": null,
            "align_items": null,
            "bottom": null,
            "_model_module": "@jupyter-widgets/base",
            "top": null,
            "grid_column": null,
            "overflow_y": null,
            "overflow_x": null,
            "grid_auto_flow": null,
            "grid_area": null,
            "grid_template_columns": null,
            "flex": null,
            "_model_name": "LayoutModel",
            "justify_items": null,
            "grid_row": null,
            "max_height": null,
            "align_content": null,
            "visibility": null,
            "align_self": null,
            "height": null,
            "min_height": null,
            "padding": null,
            "grid_auto_rows": null,
            "grid_gap": null,
            "max_width": null,
            "order": null,
            "_view_module_version": "1.2.0",
            "grid_template_areas": null,
            "object_position": null,
            "object_fit": null,
            "grid_auto_columns": null,
            "margin": null,
            "display": null,
            "left": null
          }
        },
        "ee58caddec904ef7a613c5e735433fef": {
          "model_module": "@jupyter-widgets/controls",
          "model_name": "DescriptionStyleModel",
          "state": {
            "_view_name": "StyleView",
            "_model_name": "DescriptionStyleModel",
            "description_width": "",
            "_view_module": "@jupyter-widgets/base",
            "_model_module_version": "1.5.0",
            "_view_count": null,
            "_view_module_version": "1.2.0",
            "_model_module": "@jupyter-widgets/controls"
          }
        },
        "cfc827687c9d40f39a2e25cb50fc8157": {
          "model_module": "@jupyter-widgets/base",
          "model_name": "LayoutModel",
          "state": {
            "_view_name": "LayoutView",
            "grid_template_rows": null,
            "right": null,
            "justify_content": null,
            "_view_module": "@jupyter-widgets/base",
            "overflow": null,
            "_model_module_version": "1.2.0",
            "_view_count": null,
            "flex_flow": null,
            "width": null,
            "min_width": null,
            "border": null,
            "align_items": null,
            "bottom": null,
            "_model_module": "@jupyter-widgets/base",
            "top": null,
            "grid_column": null,
            "overflow_y": null,
            "overflow_x": null,
            "grid_auto_flow": null,
            "grid_area": null,
            "grid_template_columns": null,
            "flex": null,
            "_model_name": "LayoutModel",
            "justify_items": null,
            "grid_row": null,
            "max_height": null,
            "align_content": null,
            "visibility": null,
            "align_self": null,
            "height": null,
            "min_height": null,
            "padding": null,
            "grid_auto_rows": null,
            "grid_gap": null,
            "max_width": null,
            "order": null,
            "_view_module_version": "1.2.0",
            "grid_template_areas": null,
            "object_position": null,
            "object_fit": null,
            "grid_auto_columns": null,
            "margin": null,
            "display": null,
            "left": null
          }
        },
        "017c39ddb26541d38b881164583da597": {
          "model_module": "@jupyter-widgets/controls",
          "model_name": "HBoxModel",
          "state": {
            "_view_name": "HBoxView",
            "_dom_classes": [],
            "_model_name": "HBoxModel",
            "_view_module": "@jupyter-widgets/controls",
            "_model_module_version": "1.5.0",
            "_view_count": null,
            "_view_module_version": "1.5.0",
            "box_style": "",
            "layout": "IPY_MODEL_d85165c2eb5542e9944daa8d9efd1596",
            "_model_module": "@jupyter-widgets/controls",
            "children": [
              "IPY_MODEL_0b88b1d5f02846cf8be486567c014d9f",
              "IPY_MODEL_ef81e4b9888349f6a7c080b85b8da9ad"
            ]
          }
        },
        "d85165c2eb5542e9944daa8d9efd1596": {
          "model_module": "@jupyter-widgets/base",
          "model_name": "LayoutModel",
          "state": {
            "_view_name": "LayoutView",
            "grid_template_rows": null,
            "right": null,
            "justify_content": null,
            "_view_module": "@jupyter-widgets/base",
            "overflow": null,
            "_model_module_version": "1.2.0",
            "_view_count": null,
            "flex_flow": null,
            "width": null,
            "min_width": null,
            "border": null,
            "align_items": null,
            "bottom": null,
            "_model_module": "@jupyter-widgets/base",
            "top": null,
            "grid_column": null,
            "overflow_y": null,
            "overflow_x": null,
            "grid_auto_flow": null,
            "grid_area": null,
            "grid_template_columns": null,
            "flex": null,
            "_model_name": "LayoutModel",
            "justify_items": null,
            "grid_row": null,
            "max_height": null,
            "align_content": null,
            "visibility": null,
            "align_self": null,
            "height": null,
            "min_height": null,
            "padding": null,
            "grid_auto_rows": null,
            "grid_gap": null,
            "max_width": null,
            "order": null,
            "_view_module_version": "1.2.0",
            "grid_template_areas": null,
            "object_position": null,
            "object_fit": null,
            "grid_auto_columns": null,
            "margin": null,
            "display": null,
            "left": null
          }
        },
        "0b88b1d5f02846cf8be486567c014d9f": {
          "model_module": "@jupyter-widgets/controls",
          "model_name": "IntProgressModel",
          "state": {
            "_view_name": "ProgressView",
            "style": "IPY_MODEL_ebd96ea1c7244157a7964526c9a898a9",
            "_dom_classes": [],
            "description": "",
            "_model_name": "IntProgressModel",
            "bar_style": "info",
            "max": 1,
            "_view_module": "@jupyter-widgets/controls",
            "_model_module_version": "1.5.0",
            "value": 1,
            "_view_count": null,
            "_view_module_version": "1.5.0",
            "orientation": "horizontal",
            "min": 0,
            "description_tooltip": null,
            "_model_module": "@jupyter-widgets/controls",
            "layout": "IPY_MODEL_69e9187f6dc94c0695704ff5830ac289"
          }
        },
        "ef81e4b9888349f6a7c080b85b8da9ad": {
          "model_module": "@jupyter-widgets/controls",
          "model_name": "HTMLModel",
          "state": {
            "_view_name": "HTMLView",
            "style": "IPY_MODEL_9b2dde52d5a545e0b2d49464b5ff6ee4",
            "_dom_classes": [],
            "description": "",
            "_model_name": "HTMLModel",
            "placeholder": "​",
            "_view_module": "@jupyter-widgets/controls",
            "_model_module_version": "1.5.0",
            "value": " 25000/0 [00:34&lt;00:00, 907.97 examples/s]",
            "_view_count": null,
            "_view_module_version": "1.5.0",
            "description_tooltip": null,
            "_model_module": "@jupyter-widgets/controls",
            "layout": "IPY_MODEL_6cd8152bbafe4f8687c5816ebaaa249f"
          }
        },
        "ebd96ea1c7244157a7964526c9a898a9": {
          "model_module": "@jupyter-widgets/controls",
          "model_name": "ProgressStyleModel",
          "state": {
            "_view_name": "StyleView",
            "_model_name": "ProgressStyleModel",
            "description_width": "initial",
            "_view_module": "@jupyter-widgets/base",
            "_model_module_version": "1.5.0",
            "_view_count": null,
            "_view_module_version": "1.2.0",
            "bar_color": null,
            "_model_module": "@jupyter-widgets/controls"
          }
        },
        "69e9187f6dc94c0695704ff5830ac289": {
          "model_module": "@jupyter-widgets/base",
          "model_name": "LayoutModel",
          "state": {
            "_view_name": "LayoutView",
            "grid_template_rows": null,
            "right": null,
            "justify_content": null,
            "_view_module": "@jupyter-widgets/base",
            "overflow": null,
            "_model_module_version": "1.2.0",
            "_view_count": null,
            "flex_flow": null,
            "width": null,
            "min_width": null,
            "border": null,
            "align_items": null,
            "bottom": null,
            "_model_module": "@jupyter-widgets/base",
            "top": null,
            "grid_column": null,
            "overflow_y": null,
            "overflow_x": null,
            "grid_auto_flow": null,
            "grid_area": null,
            "grid_template_columns": null,
            "flex": null,
            "_model_name": "LayoutModel",
            "justify_items": null,
            "grid_row": null,
            "max_height": null,
            "align_content": null,
            "visibility": null,
            "align_self": null,
            "height": null,
            "min_height": null,
            "padding": null,
            "grid_auto_rows": null,
            "grid_gap": null,
            "max_width": null,
            "order": null,
            "_view_module_version": "1.2.0",
            "grid_template_areas": null,
            "object_position": null,
            "object_fit": null,
            "grid_auto_columns": null,
            "margin": null,
            "display": null,
            "left": null
          }
        },
        "9b2dde52d5a545e0b2d49464b5ff6ee4": {
          "model_module": "@jupyter-widgets/controls",
          "model_name": "DescriptionStyleModel",
          "state": {
            "_view_name": "StyleView",
            "_model_name": "DescriptionStyleModel",
            "description_width": "",
            "_view_module": "@jupyter-widgets/base",
            "_model_module_version": "1.5.0",
            "_view_count": null,
            "_view_module_version": "1.2.0",
            "_model_module": "@jupyter-widgets/controls"
          }
        },
        "6cd8152bbafe4f8687c5816ebaaa249f": {
          "model_module": "@jupyter-widgets/base",
          "model_name": "LayoutModel",
          "state": {
            "_view_name": "LayoutView",
            "grid_template_rows": null,
            "right": null,
            "justify_content": null,
            "_view_module": "@jupyter-widgets/base",
            "overflow": null,
            "_model_module_version": "1.2.0",
            "_view_count": null,
            "flex_flow": null,
            "width": null,
            "min_width": null,
            "border": null,
            "align_items": null,
            "bottom": null,
            "_model_module": "@jupyter-widgets/base",
            "top": null,
            "grid_column": null,
            "overflow_y": null,
            "overflow_x": null,
            "grid_auto_flow": null,
            "grid_area": null,
            "grid_template_columns": null,
            "flex": null,
            "_model_name": "LayoutModel",
            "justify_items": null,
            "grid_row": null,
            "max_height": null,
            "align_content": null,
            "visibility": null,
            "align_self": null,
            "height": null,
            "min_height": null,
            "padding": null,
            "grid_auto_rows": null,
            "grid_gap": null,
            "max_width": null,
            "order": null,
            "_view_module_version": "1.2.0",
            "grid_template_areas": null,
            "object_position": null,
            "object_fit": null,
            "grid_auto_columns": null,
            "margin": null,
            "display": null,
            "left": null
          }
        },
        "bccac32114ee451fadcf3b92519493a2": {
          "model_module": "@jupyter-widgets/controls",
          "model_name": "HBoxModel",
          "state": {
            "_view_name": "HBoxView",
            "_dom_classes": [],
            "_model_name": "HBoxModel",
            "_view_module": "@jupyter-widgets/controls",
            "_model_module_version": "1.5.0",
            "_view_count": null,
            "_view_module_version": "1.5.0",
            "box_style": "",
            "layout": "IPY_MODEL_ce44287346704ce8a1e5dcb5b0677685",
            "_model_module": "@jupyter-widgets/controls",
            "children": [
              "IPY_MODEL_ddc5c1b52e4c4be1a4e18cb8d21484dc",
              "IPY_MODEL_51eed9f1d9834b84acdec691d81b17b2"
            ]
          }
        },
        "ce44287346704ce8a1e5dcb5b0677685": {
          "model_module": "@jupyter-widgets/base",
          "model_name": "LayoutModel",
          "state": {
            "_view_name": "LayoutView",
            "grid_template_rows": null,
            "right": null,
            "justify_content": null,
            "_view_module": "@jupyter-widgets/base",
            "overflow": null,
            "_model_module_version": "1.2.0",
            "_view_count": null,
            "flex_flow": null,
            "width": null,
            "min_width": null,
            "border": null,
            "align_items": null,
            "bottom": null,
            "_model_module": "@jupyter-widgets/base",
            "top": null,
            "grid_column": null,
            "overflow_y": null,
            "overflow_x": null,
            "grid_auto_flow": null,
            "grid_area": null,
            "grid_template_columns": null,
            "flex": null,
            "_model_name": "LayoutModel",
            "justify_items": null,
            "grid_row": null,
            "max_height": null,
            "align_content": null,
            "visibility": null,
            "align_self": null,
            "height": null,
            "min_height": null,
            "padding": null,
            "grid_auto_rows": null,
            "grid_gap": null,
            "max_width": null,
            "order": null,
            "_view_module_version": "1.2.0",
            "grid_template_areas": null,
            "object_position": null,
            "object_fit": null,
            "grid_auto_columns": null,
            "margin": null,
            "display": null,
            "left": null
          }
        },
        "ddc5c1b52e4c4be1a4e18cb8d21484dc": {
          "model_module": "@jupyter-widgets/controls",
          "model_name": "IntProgressModel",
          "state": {
            "_view_name": "ProgressView",
            "style": "IPY_MODEL_e30bcb3852974c338d6f68e94cfd58a4",
            "_dom_classes": [],
            "description": " 53%",
            "_model_name": "IntProgressModel",
            "bar_style": "danger",
            "max": 25000,
            "_view_module": "@jupyter-widgets/controls",
            "_model_module_version": "1.5.0",
            "value": 13316,
            "_view_count": null,
            "_view_module_version": "1.5.0",
            "orientation": "horizontal",
            "min": 0,
            "description_tooltip": null,
            "_model_module": "@jupyter-widgets/controls",
            "layout": "IPY_MODEL_5c3029a4c4dd423da3f9d279655293b3"
          }
        },
        "51eed9f1d9834b84acdec691d81b17b2": {
          "model_module": "@jupyter-widgets/controls",
          "model_name": "HTMLModel",
          "state": {
            "_view_name": "HTMLView",
            "style": "IPY_MODEL_262803ee36e14d429cd1322794389219",
            "_dom_classes": [],
            "description": "",
            "_model_name": "HTMLModel",
            "placeholder": "​",
            "_view_module": "@jupyter-widgets/controls",
            "_model_module_version": "1.5.0",
            "value": " 13316/25000 [00:00&lt;00:00, 133152.19 examples/s]",
            "_view_count": null,
            "_view_module_version": "1.5.0",
            "description_tooltip": null,
            "_model_module": "@jupyter-widgets/controls",
            "layout": "IPY_MODEL_d2ac723e30794a58b1c786727e672719"
          }
        },
        "e30bcb3852974c338d6f68e94cfd58a4": {
          "model_module": "@jupyter-widgets/controls",
          "model_name": "ProgressStyleModel",
          "state": {
            "_view_name": "StyleView",
            "_model_name": "ProgressStyleModel",
            "description_width": "initial",
            "_view_module": "@jupyter-widgets/base",
            "_model_module_version": "1.5.0",
            "_view_count": null,
            "_view_module_version": "1.2.0",
            "bar_color": null,
            "_model_module": "@jupyter-widgets/controls"
          }
        },
        "5c3029a4c4dd423da3f9d279655293b3": {
          "model_module": "@jupyter-widgets/base",
          "model_name": "LayoutModel",
          "state": {
            "_view_name": "LayoutView",
            "grid_template_rows": null,
            "right": null,
            "justify_content": null,
            "_view_module": "@jupyter-widgets/base",
            "overflow": null,
            "_model_module_version": "1.2.0",
            "_view_count": null,
            "flex_flow": null,
            "width": null,
            "min_width": null,
            "border": null,
            "align_items": null,
            "bottom": null,
            "_model_module": "@jupyter-widgets/base",
            "top": null,
            "grid_column": null,
            "overflow_y": null,
            "overflow_x": null,
            "grid_auto_flow": null,
            "grid_area": null,
            "grid_template_columns": null,
            "flex": null,
            "_model_name": "LayoutModel",
            "justify_items": null,
            "grid_row": null,
            "max_height": null,
            "align_content": null,
            "visibility": null,
            "align_self": null,
            "height": null,
            "min_height": null,
            "padding": null,
            "grid_auto_rows": null,
            "grid_gap": null,
            "max_width": null,
            "order": null,
            "_view_module_version": "1.2.0",
            "grid_template_areas": null,
            "object_position": null,
            "object_fit": null,
            "grid_auto_columns": null,
            "margin": null,
            "display": null,
            "left": null
          }
        },
        "262803ee36e14d429cd1322794389219": {
          "model_module": "@jupyter-widgets/controls",
          "model_name": "DescriptionStyleModel",
          "state": {
            "_view_name": "StyleView",
            "_model_name": "DescriptionStyleModel",
            "description_width": "",
            "_view_module": "@jupyter-widgets/base",
            "_model_module_version": "1.5.0",
            "_view_count": null,
            "_view_module_version": "1.2.0",
            "_model_module": "@jupyter-widgets/controls"
          }
        },
        "d2ac723e30794a58b1c786727e672719": {
          "model_module": "@jupyter-widgets/base",
          "model_name": "LayoutModel",
          "state": {
            "_view_name": "LayoutView",
            "grid_template_rows": null,
            "right": null,
            "justify_content": null,
            "_view_module": "@jupyter-widgets/base",
            "overflow": null,
            "_model_module_version": "1.2.0",
            "_view_count": null,
            "flex_flow": null,
            "width": null,
            "min_width": null,
            "border": null,
            "align_items": null,
            "bottom": null,
            "_model_module": "@jupyter-widgets/base",
            "top": null,
            "grid_column": null,
            "overflow_y": null,
            "overflow_x": null,
            "grid_auto_flow": null,
            "grid_area": null,
            "grid_template_columns": null,
            "flex": null,
            "_model_name": "LayoutModel",
            "justify_items": null,
            "grid_row": null,
            "max_height": null,
            "align_content": null,
            "visibility": null,
            "align_self": null,
            "height": null,
            "min_height": null,
            "padding": null,
            "grid_auto_rows": null,
            "grid_gap": null,
            "max_width": null,
            "order": null,
            "_view_module_version": "1.2.0",
            "grid_template_areas": null,
            "object_position": null,
            "object_fit": null,
            "grid_auto_columns": null,
            "margin": null,
            "display": null,
            "left": null
          }
        },
        "761feb594e504054b606304fc997aacd": {
          "model_module": "@jupyter-widgets/controls",
          "model_name": "HBoxModel",
          "state": {
            "_view_name": "HBoxView",
            "_dom_classes": [],
            "_model_name": "HBoxModel",
            "_view_module": "@jupyter-widgets/controls",
            "_model_module_version": "1.5.0",
            "_view_count": null,
            "_view_module_version": "1.5.0",
            "box_style": "",
            "layout": "IPY_MODEL_b2b2572c1cf84be5b9448151790a0756",
            "_model_module": "@jupyter-widgets/controls",
            "children": [
              "IPY_MODEL_08471515609e470892df5ad5237139cd",
              "IPY_MODEL_d02a08fbfa6a411a8bb45a48a6e803ef"
            ]
          }
        },
        "b2b2572c1cf84be5b9448151790a0756": {
          "model_module": "@jupyter-widgets/base",
          "model_name": "LayoutModel",
          "state": {
            "_view_name": "LayoutView",
            "grid_template_rows": null,
            "right": null,
            "justify_content": null,
            "_view_module": "@jupyter-widgets/base",
            "overflow": null,
            "_model_module_version": "1.2.0",
            "_view_count": null,
            "flex_flow": null,
            "width": null,
            "min_width": null,
            "border": null,
            "align_items": null,
            "bottom": null,
            "_model_module": "@jupyter-widgets/base",
            "top": null,
            "grid_column": null,
            "overflow_y": null,
            "overflow_x": null,
            "grid_auto_flow": null,
            "grid_area": null,
            "grid_template_columns": null,
            "flex": null,
            "_model_name": "LayoutModel",
            "justify_items": null,
            "grid_row": null,
            "max_height": null,
            "align_content": null,
            "visibility": null,
            "align_self": null,
            "height": null,
            "min_height": null,
            "padding": null,
            "grid_auto_rows": null,
            "grid_gap": null,
            "max_width": null,
            "order": null,
            "_view_module_version": "1.2.0",
            "grid_template_areas": null,
            "object_position": null,
            "object_fit": null,
            "grid_auto_columns": null,
            "margin": null,
            "display": null,
            "left": null
          }
        },
        "08471515609e470892df5ad5237139cd": {
          "model_module": "@jupyter-widgets/controls",
          "model_name": "IntProgressModel",
          "state": {
            "_view_name": "ProgressView",
            "style": "IPY_MODEL_888336dc9a7f4e5dacc45b9fc5a744ed",
            "_dom_classes": [],
            "description": "",
            "_model_name": "IntProgressModel",
            "bar_style": "info",
            "max": 1,
            "_view_module": "@jupyter-widgets/controls",
            "_model_module_version": "1.5.0",
            "value": 1,
            "_view_count": null,
            "_view_module_version": "1.5.0",
            "orientation": "horizontal",
            "min": 0,
            "description_tooltip": null,
            "_model_module": "@jupyter-widgets/controls",
            "layout": "IPY_MODEL_dc81c56e1ea94adba66e60449773f577"
          }
        },
        "d02a08fbfa6a411a8bb45a48a6e803ef": {
          "model_module": "@jupyter-widgets/controls",
          "model_name": "HTMLModel",
          "state": {
            "_view_name": "HTMLView",
            "style": "IPY_MODEL_ee29bee9f5ca4beaab6794f5e3b5c6b9",
            "_dom_classes": [],
            "description": "",
            "_model_name": "HTMLModel",
            "placeholder": "​",
            "_view_module": "@jupyter-widgets/controls",
            "_model_module_version": "1.5.0",
            "value": " 50000/0 [01:02&lt;00:00, 834.47 examples/s]",
            "_view_count": null,
            "_view_module_version": "1.5.0",
            "description_tooltip": null,
            "_model_module": "@jupyter-widgets/controls",
            "layout": "IPY_MODEL_52b771c2921a4b1095ef2ca6e3923787"
          }
        },
        "888336dc9a7f4e5dacc45b9fc5a744ed": {
          "model_module": "@jupyter-widgets/controls",
          "model_name": "ProgressStyleModel",
          "state": {
            "_view_name": "StyleView",
            "_model_name": "ProgressStyleModel",
            "description_width": "initial",
            "_view_module": "@jupyter-widgets/base",
            "_model_module_version": "1.5.0",
            "_view_count": null,
            "_view_module_version": "1.2.0",
            "bar_color": null,
            "_model_module": "@jupyter-widgets/controls"
          }
        },
        "dc81c56e1ea94adba66e60449773f577": {
          "model_module": "@jupyter-widgets/base",
          "model_name": "LayoutModel",
          "state": {
            "_view_name": "LayoutView",
            "grid_template_rows": null,
            "right": null,
            "justify_content": null,
            "_view_module": "@jupyter-widgets/base",
            "overflow": null,
            "_model_module_version": "1.2.0",
            "_view_count": null,
            "flex_flow": null,
            "width": null,
            "min_width": null,
            "border": null,
            "align_items": null,
            "bottom": null,
            "_model_module": "@jupyter-widgets/base",
            "top": null,
            "grid_column": null,
            "overflow_y": null,
            "overflow_x": null,
            "grid_auto_flow": null,
            "grid_area": null,
            "grid_template_columns": null,
            "flex": null,
            "_model_name": "LayoutModel",
            "justify_items": null,
            "grid_row": null,
            "max_height": null,
            "align_content": null,
            "visibility": null,
            "align_self": null,
            "height": null,
            "min_height": null,
            "padding": null,
            "grid_auto_rows": null,
            "grid_gap": null,
            "max_width": null,
            "order": null,
            "_view_module_version": "1.2.0",
            "grid_template_areas": null,
            "object_position": null,
            "object_fit": null,
            "grid_auto_columns": null,
            "margin": null,
            "display": null,
            "left": null
          }
        },
        "ee29bee9f5ca4beaab6794f5e3b5c6b9": {
          "model_module": "@jupyter-widgets/controls",
          "model_name": "DescriptionStyleModel",
          "state": {
            "_view_name": "StyleView",
            "_model_name": "DescriptionStyleModel",
            "description_width": "",
            "_view_module": "@jupyter-widgets/base",
            "_model_module_version": "1.5.0",
            "_view_count": null,
            "_view_module_version": "1.2.0",
            "_model_module": "@jupyter-widgets/controls"
          }
        },
        "52b771c2921a4b1095ef2ca6e3923787": {
          "model_module": "@jupyter-widgets/base",
          "model_name": "LayoutModel",
          "state": {
            "_view_name": "LayoutView",
            "grid_template_rows": null,
            "right": null,
            "justify_content": null,
            "_view_module": "@jupyter-widgets/base",
            "overflow": null,
            "_model_module_version": "1.2.0",
            "_view_count": null,
            "flex_flow": null,
            "width": null,
            "min_width": null,
            "border": null,
            "align_items": null,
            "bottom": null,
            "_model_module": "@jupyter-widgets/base",
            "top": null,
            "grid_column": null,
            "overflow_y": null,
            "overflow_x": null,
            "grid_auto_flow": null,
            "grid_area": null,
            "grid_template_columns": null,
            "flex": null,
            "_model_name": "LayoutModel",
            "justify_items": null,
            "grid_row": null,
            "max_height": null,
            "align_content": null,
            "visibility": null,
            "align_self": null,
            "height": null,
            "min_height": null,
            "padding": null,
            "grid_auto_rows": null,
            "grid_gap": null,
            "max_width": null,
            "order": null,
            "_view_module_version": "1.2.0",
            "grid_template_areas": null,
            "object_position": null,
            "object_fit": null,
            "grid_auto_columns": null,
            "margin": null,
            "display": null,
            "left": null
          }
        },
        "dd31e6422cf64dce9ffecc820af368dd": {
          "model_module": "@jupyter-widgets/controls",
          "model_name": "HBoxModel",
          "state": {
            "_view_name": "HBoxView",
            "_dom_classes": [],
            "_model_name": "HBoxModel",
            "_view_module": "@jupyter-widgets/controls",
            "_model_module_version": "1.5.0",
            "_view_count": null,
            "_view_module_version": "1.5.0",
            "box_style": "",
            "layout": "IPY_MODEL_6b8da16ecea74d678a19e2b6316e1fb5",
            "_model_module": "@jupyter-widgets/controls",
            "children": [
              "IPY_MODEL_85190506bd074c82b3be87bbd1f8612f",
              "IPY_MODEL_5d17d5772f4047ecba83033f73cb4ce2"
            ]
          }
        },
        "6b8da16ecea74d678a19e2b6316e1fb5": {
          "model_module": "@jupyter-widgets/base",
          "model_name": "LayoutModel",
          "state": {
            "_view_name": "LayoutView",
            "grid_template_rows": null,
            "right": null,
            "justify_content": null,
            "_view_module": "@jupyter-widgets/base",
            "overflow": null,
            "_model_module_version": "1.2.0",
            "_view_count": null,
            "flex_flow": null,
            "width": null,
            "min_width": null,
            "border": null,
            "align_items": null,
            "bottom": null,
            "_model_module": "@jupyter-widgets/base",
            "top": null,
            "grid_column": null,
            "overflow_y": null,
            "overflow_x": null,
            "grid_auto_flow": null,
            "grid_area": null,
            "grid_template_columns": null,
            "flex": null,
            "_model_name": "LayoutModel",
            "justify_items": null,
            "grid_row": null,
            "max_height": null,
            "align_content": null,
            "visibility": null,
            "align_self": null,
            "height": null,
            "min_height": null,
            "padding": null,
            "grid_auto_rows": null,
            "grid_gap": null,
            "max_width": null,
            "order": null,
            "_view_module_version": "1.2.0",
            "grid_template_areas": null,
            "object_position": null,
            "object_fit": null,
            "grid_auto_columns": null,
            "margin": null,
            "display": null,
            "left": null
          }
        },
        "85190506bd074c82b3be87bbd1f8612f": {
          "model_module": "@jupyter-widgets/controls",
          "model_name": "IntProgressModel",
          "state": {
            "_view_name": "ProgressView",
            "style": "IPY_MODEL_a31d003c2add498784a4a2c8df86b659",
            "_dom_classes": [],
            "description": " 63%",
            "_model_name": "IntProgressModel",
            "bar_style": "danger",
            "max": 50000,
            "_view_module": "@jupyter-widgets/controls",
            "_model_module_version": "1.5.0",
            "value": 31454,
            "_view_count": null,
            "_view_module_version": "1.5.0",
            "orientation": "horizontal",
            "min": 0,
            "description_tooltip": null,
            "_model_module": "@jupyter-widgets/controls",
            "layout": "IPY_MODEL_9760b352bc0b4c41b7fcff791e4b7030"
          }
        },
        "5d17d5772f4047ecba83033f73cb4ce2": {
          "model_module": "@jupyter-widgets/controls",
          "model_name": "HTMLModel",
          "state": {
            "_view_name": "HTMLView",
            "style": "IPY_MODEL_289591cf0122421e9b2b7bae9a9decf1",
            "_dom_classes": [],
            "description": "",
            "_model_name": "HTMLModel",
            "placeholder": "​",
            "_view_module": "@jupyter-widgets/controls",
            "_model_module_version": "1.5.0",
            "value": " 31454/50000 [00:00&lt;23:32, 13.13 examples/s]",
            "_view_count": null,
            "_view_module_version": "1.5.0",
            "description_tooltip": null,
            "_model_module": "@jupyter-widgets/controls",
            "layout": "IPY_MODEL_dbb6633e600f4c43b150def8ab10cd82"
          }
        },
        "a31d003c2add498784a4a2c8df86b659": {
          "model_module": "@jupyter-widgets/controls",
          "model_name": "ProgressStyleModel",
          "state": {
            "_view_name": "StyleView",
            "_model_name": "ProgressStyleModel",
            "description_width": "initial",
            "_view_module": "@jupyter-widgets/base",
            "_model_module_version": "1.5.0",
            "_view_count": null,
            "_view_module_version": "1.2.0",
            "bar_color": null,
            "_model_module": "@jupyter-widgets/controls"
          }
        },
        "9760b352bc0b4c41b7fcff791e4b7030": {
          "model_module": "@jupyter-widgets/base",
          "model_name": "LayoutModel",
          "state": {
            "_view_name": "LayoutView",
            "grid_template_rows": null,
            "right": null,
            "justify_content": null,
            "_view_module": "@jupyter-widgets/base",
            "overflow": null,
            "_model_module_version": "1.2.0",
            "_view_count": null,
            "flex_flow": null,
            "width": null,
            "min_width": null,
            "border": null,
            "align_items": null,
            "bottom": null,
            "_model_module": "@jupyter-widgets/base",
            "top": null,
            "grid_column": null,
            "overflow_y": null,
            "overflow_x": null,
            "grid_auto_flow": null,
            "grid_area": null,
            "grid_template_columns": null,
            "flex": null,
            "_model_name": "LayoutModel",
            "justify_items": null,
            "grid_row": null,
            "max_height": null,
            "align_content": null,
            "visibility": null,
            "align_self": null,
            "height": null,
            "min_height": null,
            "padding": null,
            "grid_auto_rows": null,
            "grid_gap": null,
            "max_width": null,
            "order": null,
            "_view_module_version": "1.2.0",
            "grid_template_areas": null,
            "object_position": null,
            "object_fit": null,
            "grid_auto_columns": null,
            "margin": null,
            "display": null,
            "left": null
          }
        },
        "289591cf0122421e9b2b7bae9a9decf1": {
          "model_module": "@jupyter-widgets/controls",
          "model_name": "DescriptionStyleModel",
          "state": {
            "_view_name": "StyleView",
            "_model_name": "DescriptionStyleModel",
            "description_width": "",
            "_view_module": "@jupyter-widgets/base",
            "_model_module_version": "1.5.0",
            "_view_count": null,
            "_view_module_version": "1.2.0",
            "_model_module": "@jupyter-widgets/controls"
          }
        },
        "dbb6633e600f4c43b150def8ab10cd82": {
          "model_module": "@jupyter-widgets/base",
          "model_name": "LayoutModel",
          "state": {
            "_view_name": "LayoutView",
            "grid_template_rows": null,
            "right": null,
            "justify_content": null,
            "_view_module": "@jupyter-widgets/base",
            "overflow": null,
            "_model_module_version": "1.2.0",
            "_view_count": null,
            "flex_flow": null,
            "width": null,
            "min_width": null,
            "border": null,
            "align_items": null,
            "bottom": null,
            "_model_module": "@jupyter-widgets/base",
            "top": null,
            "grid_column": null,
            "overflow_y": null,
            "overflow_x": null,
            "grid_auto_flow": null,
            "grid_area": null,
            "grid_template_columns": null,
            "flex": null,
            "_model_name": "LayoutModel",
            "justify_items": null,
            "grid_row": null,
            "max_height": null,
            "align_content": null,
            "visibility": null,
            "align_self": null,
            "height": null,
            "min_height": null,
            "padding": null,
            "grid_auto_rows": null,
            "grid_gap": null,
            "max_width": null,
            "order": null,
            "_view_module_version": "1.2.0",
            "grid_template_areas": null,
            "object_position": null,
            "object_fit": null,
            "grid_auto_columns": null,
            "margin": null,
            "display": null,
            "left": null
          }
        }
      }
    }
  },
  "cells": [
    {
      "cell_type": "markdown",
      "metadata": {
        "id": "y02E9qa4NkN3",
        "colab_type": "text"
      },
      "source": [
        "Text MIning on IMDB dataset"
      ]
    },
    {
      "cell_type": "code",
      "metadata": {
        "id": "dzBXwFYBKY59",
        "colab_type": "code",
        "outputId": "d01f33f8-ad63-4945-b6b2-449e7155a20e",
        "colab": {
          "base_uri": "https://localhost:8080/",
          "height": 34
        }
      },
      "source": [
        "#Download IMDB dataset\n",
        "import tensorflow as tf\n",
        "#tf.enable_eager_execution()\n",
        "\n",
        "import os\n",
        "import sys\n",
        "import tarfile\n",
        "import time\n",
        "import urllib.request\n",
        "\n",
        "source = 'http://ai.stanford.edu/~amaas/data/sentiment/aclImdb_v1.tar.gz'\n",
        "target = 'aclImdb_v1.tar.gz'\n",
        "\n",
        "urllib.request.urlretrieve(source, target)"
      ],
      "execution_count": 0,
      "outputs": [
        {
          "output_type": "execute_result",
          "data": {
            "text/plain": [
              "('aclImdb_v1.tar.gz', <http.client.HTTPMessage at 0x7fd55523a4a8>)"
            ]
          },
          "metadata": {
            "tags": []
          },
          "execution_count": 2
        }
      ]
    },
    {
      "cell_type": "markdown",
      "metadata": {
        "id": "PRNEGmLNKeY9",
        "colab_type": "text"
      },
      "source": [
        "Extract the file"
      ]
    },
    {
      "cell_type": "code",
      "metadata": {
        "id": "9LhwYw1QKgGF",
        "colab_type": "code",
        "colab": {}
      },
      "source": [
        "import tarfile\n",
        "with tarfile.open('aclImdb_v1.tar.gz', 'r:gz') as tar:\n",
        "  tar.extractall()"
      ],
      "execution_count": 0,
      "outputs": []
    },
    {
      "cell_type": "markdown",
      "metadata": {
        "id": "jVYcLoQTKlFH",
        "colab_type": "text"
      },
      "source": [
        "Read the file"
      ]
    },
    {
      "cell_type": "code",
      "metadata": {
        "id": "ImPyseM3Kl7F",
        "colab_type": "code",
        "outputId": "45444cfd-1c55-440a-fa00-4692cf2ec9d9",
        "colab": {
          "base_uri": "https://localhost:8080/",
          "height": 139
        }
      },
      "source": [
        "!pip install pyprind\n",
        "import pyprind\n",
        "import pandas as pd\n",
        "import os\n",
        "\n",
        "# change the `basepath` to the directory of the\n",
        "# unzipped movie dataset\n",
        "\n",
        "basepath = 'aclImdb'\n",
        "\n",
        "labels = {'pos': 1, 'neg': 0}\n",
        "pbar = pyprind.ProgBar(50000)\n",
        "df = pd.DataFrame()\n",
        "for s in ('test', 'train'):\n",
        "    for l in ('pos', 'neg'):\n",
        "        path = os.path.join(basepath, s, l)\n",
        "        for file in sorted(os.listdir(path)):\n",
        "            with open(os.path.join(path, file), \n",
        "                      'r', encoding='utf-8') as infile:\n",
        "                txt = infile.read()\n",
        "            df = df.append([[txt, labels[l]]], \n",
        "                           ignore_index=True)\n",
        "            pbar.update()\n",
        "df.columns = ['review', 'sentiment']"
      ],
      "execution_count": 0,
      "outputs": [
        {
          "output_type": "stream",
          "text": [
            "Collecting pyprind\n",
            "  Downloading https://files.pythonhosted.org/packages/1e/30/e76fb0c45da8aef49ea8d2a90d4e7a6877b45894c25f12fb961f009a891e/PyPrind-2.11.2-py3-none-any.whl\n",
            "Installing collected packages: pyprind\n",
            "Successfully installed pyprind-2.11.2\n"
          ],
          "name": "stdout"
        },
        {
          "output_type": "stream",
          "text": [
            "0% [##############################] 100% | ETA: 00:00:00\n",
            "Total time elapsed: 00:01:20\n"
          ],
          "name": "stderr"
        }
      ]
    },
    {
      "cell_type": "code",
      "metadata": {
        "id": "XWgcUBQxKxrD",
        "colab_type": "code",
        "colab": {}
      },
      "source": [
        "import numpy as np\n",
        "#Shuffling the DataFrame:\n",
        "np.random.seed(0)\n",
        "df = df.reindex(np.random.permutation(df.index))"
      ],
      "execution_count": 0,
      "outputs": []
    },
    {
      "cell_type": "code",
      "metadata": {
        "id": "YFA3FnbvLKxu",
        "colab_type": "code",
        "colab": {}
      },
      "source": [
        "#Saving the assembled data as CSV file:\n",
        "df.to_csv('movie_data.csv', index=False, encoding='utf-8')"
      ],
      "execution_count": 0,
      "outputs": []
    },
    {
      "cell_type": "code",
      "metadata": {
        "id": "QAXwItHTLOWc",
        "colab_type": "code",
        "outputId": "194facd3-3771-4554-87a2-d39cae374f22",
        "colab": {
          "base_uri": "https://localhost:8080/",
          "height": 221
        }
      },
      "source": [
        "import pandas as pd\n",
        "\n",
        "df = pd.read_csv('movie_data.csv', encoding='utf-8')\n",
        "print( df.shape)\n",
        "df.head()"
      ],
      "execution_count": 0,
      "outputs": [
        {
          "output_type": "stream",
          "text": [
            "(50000, 2)\n"
          ],
          "name": "stdout"
        },
        {
          "output_type": "execute_result",
          "data": {
            "text/html": [
              "<div>\n",
              "<style scoped>\n",
              "    .dataframe tbody tr th:only-of-type {\n",
              "        vertical-align: middle;\n",
              "    }\n",
              "\n",
              "    .dataframe tbody tr th {\n",
              "        vertical-align: top;\n",
              "    }\n",
              "\n",
              "    .dataframe thead th {\n",
              "        text-align: right;\n",
              "    }\n",
              "</style>\n",
              "<table border=\"1\" class=\"dataframe\">\n",
              "  <thead>\n",
              "    <tr style=\"text-align: right;\">\n",
              "      <th></th>\n",
              "      <th>review</th>\n",
              "      <th>sentiment</th>\n",
              "    </tr>\n",
              "  </thead>\n",
              "  <tbody>\n",
              "    <tr>\n",
              "      <th>0</th>\n",
              "      <td>In 1974, the teenager Martha Moxley (Maggie Gr...</td>\n",
              "      <td>1</td>\n",
              "    </tr>\n",
              "    <tr>\n",
              "      <th>1</th>\n",
              "      <td>OK... so... I really like Kris Kristofferson a...</td>\n",
              "      <td>0</td>\n",
              "    </tr>\n",
              "    <tr>\n",
              "      <th>2</th>\n",
              "      <td>***SPOILER*** Do not read this, if you think a...</td>\n",
              "      <td>0</td>\n",
              "    </tr>\n",
              "    <tr>\n",
              "      <th>3</th>\n",
              "      <td>hi for all the people who have seen this wonde...</td>\n",
              "      <td>1</td>\n",
              "    </tr>\n",
              "    <tr>\n",
              "      <th>4</th>\n",
              "      <td>I recently bought the DVD, forgetting just how...</td>\n",
              "      <td>0</td>\n",
              "    </tr>\n",
              "  </tbody>\n",
              "</table>\n",
              "</div>"
            ],
            "text/plain": [
              "                                              review  sentiment\n",
              "0  In 1974, the teenager Martha Moxley (Maggie Gr...          1\n",
              "1  OK... so... I really like Kris Kristofferson a...          0\n",
              "2  ***SPOILER*** Do not read this, if you think a...          0\n",
              "3  hi for all the people who have seen this wonde...          1\n",
              "4  I recently bought the DVD, forgetting just how...          0"
            ]
          },
          "metadata": {
            "tags": []
          },
          "execution_count": 6
        }
      ]
    },
    {
      "cell_type": "code",
      "metadata": {
        "id": "-xXX0ZKmLVXw",
        "colab_type": "code",
        "colab": {}
      },
      "source": [
        "#remove all of the HTML markup\n",
        "\n",
        "import re\n",
        "def preprocessor(text):\n",
        "    text = re.sub('<[^>]*>', '', text)\n",
        "    emoticons = re.findall('(?::|;|=)(?:-)?(?:\\)|\\(|D|P)',\n",
        "                           text)\n",
        "    text = (re.sub('[\\W]+', ' ', text.lower()) +\n",
        "            ' '.join(emoticons).replace('-', ''))\n",
        "    return text\n",
        "\n",
        "df['review'] = df['review'].apply(preprocessor)"
      ],
      "execution_count": 0,
      "outputs": []
    },
    {
      "cell_type": "code",
      "metadata": {
        "id": "Za3Htds_MnkA",
        "colab_type": "code",
        "colab": {}
      },
      "source": [
        "#Create the X(Predictor) and y target variable\n",
        "\n",
        "X = df['review'].values\n",
        "y = df['sentiment'].values\n",
        "\n",
        "#Splitting the set into training and testing in the ratio 50:50\n",
        "from sklearn.model_selection import train_test_split\n",
        "\n",
        "X_train, X_test, y_train, y_test = train_test_split(X, y, test_size = 0.5, \n",
        "                                                    stratify=y,\n",
        "                                                    random_state = 1)"
      ],
      "execution_count": 0,
      "outputs": []
    },
    {
      "cell_type": "code",
      "metadata": {
        "id": "Ryl_1ooENlwN",
        "colab_type": "code",
        "colab": {}
      },
      "source": [
        "#Word stemming: Find the root words\n",
        "\n",
        "from nltk.stem.porter import PorterStemmer\n",
        "porter = PorterStemmer()\n",
        "\n",
        "def tokenizer(text):\n",
        "    return text.split()\n",
        "\n",
        "def tokenizer_porter(text):\n",
        "    return [porter.stem(word) for word in text.split()]"
      ],
      "execution_count": 0,
      "outputs": []
    },
    {
      "cell_type": "code",
      "metadata": {
        "id": "wGWhDuJ4VakD",
        "colab_type": "code",
        "outputId": "8421d8a5-91cd-4aad-cf8a-0917fc76db10",
        "colab": {
          "base_uri": "https://localhost:8080/",
          "height": 51
        }
      },
      "source": [
        "#stop-word removal\n",
        "import nltk\n",
        "nltk.download('stopwords')\n",
        "from nltk.corpus import stopwords\n",
        "\n",
        "stop = stopwords.words('english')"
      ],
      "execution_count": 0,
      "outputs": [
        {
          "output_type": "stream",
          "text": [
            "[nltk_data] Downloading package stopwords to /root/nltk_data...\n",
            "[nltk_data]   Unzipping corpora/stopwords.zip.\n"
          ],
          "name": "stdout"
        }
      ]
    },
    {
      "cell_type": "code",
      "metadata": {
        "id": "G7nPx0cdN2N8",
        "colab_type": "code",
        "outputId": "d70e3521-5a78-4dcc-ffaf-818ffa7a5e47",
        "colab": {
          "base_uri": "https://localhost:8080/",
          "height": 629
        }
      },
      "source": [
        "# Use a GridSearchCV object to find the optimal set of parameters for our\n",
        "# logistic regression model using 5-fold stratified cross-validation\n",
        "\n",
        "from sklearn.pipeline import Pipeline\n",
        "from sklearn.linear_model import LogisticRegression\n",
        "from sklearn.feature_extraction.text import TfidfVectorizer\n",
        "from sklearn.model_selection import GridSearchCV\n",
        "\n",
        "#TFIDF, short for term frequency–inverse document frequency. Down weight the term frequency by relevance.\n",
        "tfidf = TfidfVectorizer(strip_accents=None,   \n",
        "                        lowercase=False,\n",
        "                        preprocessor=None)\n",
        "\n",
        "param_grid = [{'vect__ngram_range': [(1, 1)],\n",
        "               'vect__stop_words': [stop, None],\n",
        "               'vect__tokenizer': [tokenizer],\n",
        "               'clf__penalty': ['l1', 'l2'],\n",
        "               'clf__C': [1.0, 10.0]},\n",
        "              ]\n",
        "\n",
        "lr_tfidf = Pipeline([('vect', tfidf),\n",
        "                     ('clf', LogisticRegression(random_state=0, solver='liblinear'))])\n",
        "\n",
        "gs_lr_tfidf = GridSearchCV(lr_tfidf, param_grid,\n",
        "                           scoring='accuracy',\n",
        "                           cv=5,\n",
        "                           verbose=2,\n",
        "                           n_jobs=-1)\n",
        "\n",
        "gs_lr_tfidf.fit(X_train, y_train)"
      ],
      "execution_count": 0,
      "outputs": [
        {
          "output_type": "stream",
          "text": [
            "Fitting 5 folds for each of 8 candidates, totalling 40 fits\n"
          ],
          "name": "stdout"
        },
        {
          "output_type": "stream",
          "text": [
            "[Parallel(n_jobs=-1)]: Using backend LokyBackend with 2 concurrent workers.\n",
            "[Parallel(n_jobs=-1)]: Done  37 tasks      | elapsed:  1.9min\n",
            "[Parallel(n_jobs=-1)]: Done  40 out of  40 | elapsed:  2.1min finished\n"
          ],
          "name": "stderr"
        },
        {
          "output_type": "execute_result",
          "data": {
            "text/plain": [
              "GridSearchCV(cv=5, error_score=nan,\n",
              "             estimator=Pipeline(memory=None,\n",
              "                                steps=[('vect',\n",
              "                                        TfidfVectorizer(analyzer='word',\n",
              "                                                        binary=False,\n",
              "                                                        decode_error='strict',\n",
              "                                                        dtype=<class 'numpy.float64'>,\n",
              "                                                        encoding='utf-8',\n",
              "                                                        input='content',\n",
              "                                                        lowercase=False,\n",
              "                                                        max_df=1.0,\n",
              "                                                        max_features=None,\n",
              "                                                        min_df=1,\n",
              "                                                        ngram_range=(1, 1),\n",
              "                                                        norm='l2',\n",
              "                                                        preprocessor=None,\n",
              "                                                        smooth_idf=True,\n",
              "                                                        stop_words=None,\n",
              "                                                        strip_acc...\n",
              "                                                'our', 'ours', 'ourselves',\n",
              "                                                'you', \"you're\", \"you've\",\n",
              "                                                \"you'll\", \"you'd\", 'your',\n",
              "                                                'yours', 'yourself',\n",
              "                                                'yourselves', 'he', 'him',\n",
              "                                                'his', 'himself', 'she',\n",
              "                                                \"she's\", 'her', 'hers',\n",
              "                                                'herself', 'it', \"it's\", 'its',\n",
              "                                                'itself', ...],\n",
              "                                               None],\n",
              "                          'vect__tokenizer': [<function tokenizer at 0x7ff16012d488>]}],\n",
              "             pre_dispatch='2*n_jobs', refit=True, return_train_score=False,\n",
              "             scoring='accuracy', verbose=2)"
            ]
          },
          "metadata": {
            "tags": []
          },
          "execution_count": 19
        }
      ]
    },
    {
      "cell_type": "code",
      "metadata": {
        "id": "YgX7TvCWWPk6",
        "colab_type": "code",
        "outputId": "0d145c59-127d-40dc-9f17-a5c3ecec52e6",
        "colab": {
          "base_uri": "https://localhost:8080/",
          "height": 71
        }
      },
      "source": [
        "#Print out the best parameter combination and the best cross validation scores\n",
        "print('Best parameter set: %s ' % gs_lr_tfidf.best_params_)\n",
        "print('CV Accuracy: %.3f' % gs_lr_tfidf.best_score_)"
      ],
      "execution_count": 0,
      "outputs": [
        {
          "output_type": "stream",
          "text": [
            "Best parameter set: {'clf__C': 10.0, 'clf__penalty': 'l2', 'vect__ngram_range': (1, 1), 'vect__stop_words': None, 'vect__tokenizer': <function tokenizer at 0x7ff16012d488>} \n",
            "CV Accuracy: 0.896\n"
          ],
          "name": "stdout"
        }
      ]
    },
    {
      "cell_type": "code",
      "metadata": {
        "id": "9rQQTnm8WcXW",
        "colab_type": "code",
        "outputId": "c204f829-2eca-411b-9f59-80a4ea122ccf",
        "colab": {
          "base_uri": "https://localhost:8080/",
          "height": 34
        }
      },
      "source": [
        "#Use the best estimators: We achieved about 90% accuracy\n",
        "clf = gs_lr_tfidf.best_estimator_\n",
        "print('Test Accuracy: %.3f' % clf.score(X_test, y_test))"
      ],
      "execution_count": 0,
      "outputs": [
        {
          "output_type": "stream",
          "text": [
            "Test Accuracy: 0.897\n"
          ],
          "name": "stdout"
        }
      ]
    },
    {
      "cell_type": "code",
      "metadata": {
        "id": "7SP0cUMEW0bP",
        "colab_type": "code",
        "outputId": "a5f5fe2f-b583-421d-f045-5e227314ab37",
        "colab": {
          "base_uri": "https://localhost:8080/",
          "height": 224
        }
      },
      "source": [
        "# Lets run the prediction for a few records\n",
        "print(X_test[1:10,])\n",
        "print(clf.predict(X_test[1:10,]))\n",
        "print(y_test[1:10,])"
      ],
      "execution_count": 0,
      "outputs": [
        {
          "output_type": "stream",
          "text": [
            "['i just wanted to say that i love gheorghe muresan so i automatically loved this movie everything else about it was so so billy crystal is a good actor even if he is annoying but the thing that made this movie was at least for a basketball fan seeing gheorghe muresan act '\n",
            " ' antwone fisher tells of a young black u s navy enlisted man and product of childhood abuse and neglect luke whose hostility toward others gets him a stint with the base shrink washington leading to introspection self appraisal and a return to his roots pat sanitized and sentimental antwone fisher is a solid feel good flick about the reconciliation of past regrets and closure good old hollywood style entertainment family values entertainment with just a hint of corn b '\n",
            " 'this is an excellent film dealing with a potentially exploitative subject with great sensitivity anne reid previously best known in the uk for her tv roles including dinnerladies a victoria wood scripted series on in company catering workers if you re wondering gives a performance of finely judged understatement as may a late 60s bereaved mother of two chattering class adults in an inner london borough her husband toots peter vaughan dies on their visit to the male of the latter species bobby and we see the pair being rather casually greeted by bobby and his family may s teacher daughter paula cathryn bradshaw lives nearby however and the relationship between may and paula initially appears closer thus when may decides she cannot live in her own home and comes back to london she is able to stay in paula s house and do some child minding of paula s more appreciative offspring it is on may s visits to bobby s house that she embarks on an affair with darren a mid 30s friend of bobby who is working on a house extension in what may be the first mainstream british film to so portray it it is may and not darren daniel craig who initiates the encounter and at least to begin with it seems that the relationship is founded on mutual respect there is no explicit sexual content at least in the dvd i saw differences in the imdb cast list suggests the existence of other versions and the physical basis of the affair is handled directly but not exploitatively more strongly portrayed is the relationship between may and daughter paula a recent convert to therapy and self exploration who announces that mummy has never been supportive of her paula is also darren s lover and when she finds may s explicit but rather poor drawings of darren and may together things go downhill in dramatic but controlled fashion only in an english film perhaps could a daughter announce that she is going to hit her mother politely ask her to stand up and duly wallop her in the mean time may is being drawn into a putative relationship with a decent but older of her own generation member of paula s writing group the contrast between the ensuing unwanted intercourse and her affair with darren is clearly made it is at that point that may starts to acquiesce to paula and darren s worm begins to turn he reveals on cocaine that he may have been after her money if not all along but for some of the ride so may finds herself superfluous to both of her children s needs and finally does return home but later leaves on a jet plane for pastures new the film s strength is that it portrays with unflinching but sympathetic truth the nature of contemporary adult parent sibling relationships where bereavement may leave the surviving parent feeling more alone than if they had no one to care for them this is not new but the openness of the portrayal of sexual need in the over 60s may well be the darkness of the film s content from a screenplay by hanif kureishi stands in contrast to the way in which it is lit it seems to be perpetual summer and the overall mood is uplifting it could so easily have been yet another piece set in a dour and rainy england the ending is perhaps under written as we don t know where may is going or for how long perhaps she s shirley valentine with a pension she s certainly no picasso anne reid is however revealed as a fine actor whose professional life will surely have changed forever like julie andrews in torn curtain said by paul newman there goes your mary poppins read dinnerladies image for good yes he announced oct 2005 as the new james bond '\n",
            " 'i ve read the positive comments on this movie i assume people who were in this movie must ve come to this site to give it some good press because this was one of the worst movies i have ever seen i always watch the whole film despite the quality or lack there of which explains why i watched this whole movie but i don t think i laughed even once during the duration of this film the jokes were mostly very bad but when the jokes had some promise the delivery was off if you liked it maybe you should lay off the buds because you need to preserve the 5 or 6 brain cells you have left this movie had a poor script bad acting poor directing weak plot nothing of virtue and was not entertaining if you haven t seen this movie don t '\n",
            " 'someone once defined what is the definition of an intellectual as being a person who can listen to the william tell overture without thinking of the lone ranger in this we heartily concur it surely would be a tall order to accomplish this and one that leopold stokowski arturo toscanini or leonard bernstein would all find nigh well impossible to do and in this there is no disgrace the radio series and the television series along with some movie serials feature films syndicated newspaper comic strip and comic books all did their part to make the masked man of the plains and his faithful indian companion tonto a deeply seeded element of our collective psyche and of our literary folklore as with most legends it all started gradually first with a series of radio plays written for local use in detroit over radio station wxyz the creator was one george w trendle and the principal writer on the series was mr trendle s brother in law mr fran striker the year was 1933 when the ranger first rode out to the plains of the early western united states the lone ranger tonto and the radio series all successfully guided depression era americans through the mid and late 30 s up to and through world war ii but the post war era found the country in the midst of a super nova explosion of invention and technology there had been a new communications medium standing ready in the wings but unable to go forth until both ve day and vj day had been achieved once these were accomplished and the world and america was ready to settle down to both peace and prosperity the new technology was of course was television and we would surely need something else than roller derby and wrestling from marigold arena to fill up the broadcast hours and while at first the time that a tv station had anything on except that portrait of that mohican chief test pattern schultz very soon and with post haste the networks began tapping their existing natural resources their existing programming virtually all would be ripe for adaptation to the tv screen so the folks over at lone ranger incorporated were very interested when producers jack chertok harry poppe sherman harris and jack wrather all approached them with a deal to put the masked man and tonto on the television waves as well as the radio immediately they went to work and gave us the first season which made use of the considerable back log of radio dramas all potentially adaptable to tv dramas they cast clayton moore a fine supporting actor in many a feature film and with about a dozen years experience he also had done some work in serials over at republic pictures thrill factory which would be invaluable experience in doing the lone ranger cast as his faithful indian companion and partner in bringing justice to various parts of the frontier we had sheer perfection in character supporting actor jay silverheels we must mention that there was that rift in about 53 when clayton moore walked and was replaced with john hart after a season or so mr moore was back in having been missed so much now back to our story the first years of filming gave the episodes a look and a sound all of their own they made good use of off screen narrator which gave these shows a feel of authenticity and an individual stand out one of a kind series the actors employed were all veterans of the movies of the late silent era thru the 1930 s and 1940 s a lot of them had been just about exclusively cowboy movie players a good example of these is the casting of glenn strange bartender sam on gunsmoke as the vicious murderous gang leader butch cavandish and it was the cavendish gang s massacre of the texas rangers that led to the origin of john reid thought to have been slain with the other texas rangers as the lone ranger in addition to the old timers in the cast you will find a lot of new and up and coming talent then in the cast we see people like phyllis coates dwayne hickman denver pyle and others in the cast from week to week all of this along with an always calling for fair play justice and peace in a western world the last couple of seasons brought some big changes first was the use of colour filming that made no difference as a colour tv set was still a long way off for our household the second was a new set of musical themes and queues other than rossini s finale from u no wutt the new music was never a big deal to us as we preferred the old radio stock stuff with this series and two feature films done during this period the lone ranger warner brothers 1956 and the lone ranger and the lost city of gold united artists 1958 the character has been permanently and indelibly impressed in our identity as a people we americans '\n",
            " 'this is one of the greatest films ever made it s an all time classic the character played by ned beatty undergoes one of the greatest on screen transformations ever portrayed he is a shallow almost useless overweight insurance salesman he is proud of his ignorance and yet judges the backwards hicks to be the ignorant ones when he compliments the old man on his hat and the old man responds you don t know nothing the tone is set it s true he really doesn t know nothing but one backwoods anal rape later the man is practically a warrior his shallow fake bravery is toned down into serious resolve the old self is forever dead left in some far off woods soon to be under hundreds of feet of water and what of lewis our intrepid guide lewis is a philosopher hunter warrior and he s just about nuts burt reynolds proved himself as an actor way back in 1972 in this film completely giving himself in to this wonderful role who wouldn t want to have a friend like lewis if one was to venture into the dangers of a forgotten soon to be left behind world like the one our hapless travelers find themselves in this film speaks to us on so many levels the story feels real it works as a complete action adventure with wonderful cinematography and deliberate grinding pacing it works as a bit of a horror film with the danger and almost surrealism of the encounter with the vile rednecks who objectify their sow ned beatty but it also works as an art film using incredible amounts of symbolism to convey truths that go to our very core i have seen this film at least fifty times and every time it comes on i find i have to watch it you have to watch it quite a few times to even begin to comprehend it this is one deep movie this is one well acted movie and this is one hell of a story i gave it a 10 out of 10 and put it in my 10 all time greatest films ever made along with schindler s list casablanca taxi driver and sling blade among others movies that make you think movies that take you beyond having to think movies that use a story to make their point without trying to preach to you if you think you know deliverance you might but again you might not it really is that good '\n",
            " 'as we all know the sub genre of sex comedies is pretty crowded simply being excessively raunchy isn t enough anymore i ve seen and heard so many disgusting jokes and actions that a sex comedy really needs to have other positive points to appeal to me these days coming into the 40 year old virgin i knew basically what to expect i did see the commercials after all is it true that if you don t use it you lose it what i didn t expect to find is a heart and honest attempts at character development there s still the weird off the wall characters that we see so much in adam sandler movies and there s still enough inappropriate language to sink noah s ark but somehow the movie has a worthwhile love story and yes even a message the main character andy is unfortunately for me a person i can relate to in the first shot i see that he even shares my love for mystery science theater 3000 he has a poster for the movie on his wall and throughout the movie we get to see his really neat collection of antiquities andy also has plenty of video games and a working knowledge of films and technology andy doesn t want to buy a car because he prefers his bike most importantly of all andy is a nice person he doesn t swear and he respect women so much that he stays away from them combine all these factors and everybody begins to think he s a serial murderer it s like my life story the other characters each have funny little stories to go along with their slightly exaggerated personalities and they all work on a certain level but not the way andy does i felt that it was sort of distracting in a way since andy and his girlfriend trish are really the only truly human characters in the entire movie i suppose since i mentioned one flaw i might as well bring the other noticeable one to light the story is clever but too predictable and as far as romances go it s quite simple it deals with andy s relationship with trish for a long time and we all know what s going to happen in the end sure its final detour is a bit different than we may expect but you know what s going to happen in the end and i assure you it does these are definitely small stains on the movie but there s so much good here that i can easily ignore it s few faults when i say good i mean bad of course this is a sex comedy and it wants to be bad for the most part i think it succeeded there are so many hilarious scenes such as andy trying to get rid of an erection after refusing to have sex with trish or the scene where andy goes with his trish s daughter to a sexual education class where he ends up asking more questions than anybody else ah and we must not forget the soon to be classic chest waxing sequence ooh como se llama an interesting little note about that scene the actor steve carell actually did wax his belly and the pain shown is real of course they only did one take but it was still a very brave thing to do on his part actually since we re talking about steve carell i d like to say that he has now risen on my list of respected comedians which is sort of odd since i didn t even know who he was prior to seeing this film i was just so impressed by his writing acting and timing that i now really want to keep an eye out for his future roles this man has talent it the 40 year old virgin proves that to be honest i had doubts about this film but early word was positive and i knew it was something i was eventually going to see i m glad that i did too since it s probably one of the funniest movies i ve seen in a long time and it doubles as something you feel is worth watching it s not simply a series of sex gags lumped together rather it s a series of sex gags entwined with a very worthwhile character and a truly touching romance now excuse me while i go puke my guts out i can t believe i just wrote that my review from frider waves http friderwaves com index php page virgin'\n",
            " 'the most spiritual film i have seen in a long long time maybe ever also one scene around the dining room table a piece of comic perfection i understand a release date is coming up in the fall if it comes to your town and you want to see a movie that makes you think this is it aviva is great in it and she is most certainly a future star superbad is out now which she is in also all the actors seem perfectly calibrated there is a tone set by this movie that is used to surprise through out i would not know what to call it it is comedy but the undergirding message is so fierce and direct that comedy is not a big enough word for it i love this film it is a thinking man s comedy but even that phrase is not really good enough ftf does have a message and that message needs to be heard right now'\n",
            " 'seriously i m all for gooey romantic comedies and will get sucked into miss congeniality as easily as goodfellas but this movie it doesn t make any sense and i m not even talking about the willing suspension of disbelief kind of not making sense why does her family live in england or at the very least why doesn t she have a british accent she s sure cozy with her dad and he s surprisingly forgiving of her not being around for the last two years on that subject no one ever makes much of a deal about her being away for so long and what was with the goofy outfits at the bachelorette party i m not even going to get into the fact that the escort she paid for falls in love with her that could ve been overcome by better movie making i m just saying that the characters the setting and the plot aren t fleshed out enough to make an even somewhat cohesive story oh and the worst part in my opinion is the filmmaker s consistent use of the most unflattering angles on deborah messing s nose i d have sued the filmmakers if i were her i mean honestly i m all for women being who they are but why in seven loyal years of will and grace viewing have i not ever noticed how incredibly odd her nose is oh because those producers are kind to her this movie like my other least favorite movie ever armageddon is the fault of the filmmakers not the actors i can see both messing and mcdermott in these roles with a better writer director and producer this easily gets my vote as one of the worst movies i ve ever wasted time on i m just glad a friend loaned me her dvd so all i wasted was time if there were a way to make this review zero stars i d do it ']\n",
            "[0 1 1 0 1 1 1 1 0]\n",
            "[1 1 1 0 1 1 1 1 0]\n"
          ],
          "name": "stdout"
        }
      ]
    },
    {
      "cell_type": "markdown",
      "metadata": {
        "id": "ozEvDjbZ8v62",
        "colab_type": "text"
      },
      "source": [
        "**LDA: Topic modeling with Latent Dirichlet Allocation**"
      ]
    },
    {
      "cell_type": "code",
      "metadata": {
        "id": "ucvhEdmZ8wQw",
        "colab_type": "code",
        "outputId": "30799823-e38c-4bad-fbb4-50d70680cce8",
        "colab": {
          "base_uri": "https://localhost:8080/",
          "height": 142
        }
      },
      "source": [
        "#Load dataset\n",
        "import pandas as pd\n",
        "\n",
        "df = pd.read_csv('movie_data.csv', encoding='utf-8')\n",
        "\n",
        "df.head(3)"
      ],
      "execution_count": 0,
      "outputs": [
        {
          "output_type": "execute_result",
          "data": {
            "text/html": [
              "<div>\n",
              "<style scoped>\n",
              "    .dataframe tbody tr th:only-of-type {\n",
              "        vertical-align: middle;\n",
              "    }\n",
              "\n",
              "    .dataframe tbody tr th {\n",
              "        vertical-align: top;\n",
              "    }\n",
              "\n",
              "    .dataframe thead th {\n",
              "        text-align: right;\n",
              "    }\n",
              "</style>\n",
              "<table border=\"1\" class=\"dataframe\">\n",
              "  <thead>\n",
              "    <tr style=\"text-align: right;\">\n",
              "      <th></th>\n",
              "      <th>review</th>\n",
              "      <th>sentiment</th>\n",
              "    </tr>\n",
              "  </thead>\n",
              "  <tbody>\n",
              "    <tr>\n",
              "      <th>0</th>\n",
              "      <td>In 1974, the teenager Martha Moxley (Maggie Gr...</td>\n",
              "      <td>1</td>\n",
              "    </tr>\n",
              "    <tr>\n",
              "      <th>1</th>\n",
              "      <td>OK... so... I really like Kris Kristofferson a...</td>\n",
              "      <td>0</td>\n",
              "    </tr>\n",
              "    <tr>\n",
              "      <th>2</th>\n",
              "      <td>***SPOILER*** Do not read this, if you think a...</td>\n",
              "      <td>0</td>\n",
              "    </tr>\n",
              "  </tbody>\n",
              "</table>\n",
              "</div>"
            ],
            "text/plain": [
              "                                              review  sentiment\n",
              "0  In 1974, the teenager Martha Moxley (Maggie Gr...          1\n",
              "1  OK... so... I really like Kris Kristofferson a...          0\n",
              "2  ***SPOILER*** Do not read this, if you think a...          0"
            ]
          },
          "metadata": {
            "tags": []
          },
          "execution_count": 7
        }
      ]
    },
    {
      "cell_type": "code",
      "metadata": {
        "id": "8gad9pLg9eHi",
        "colab_type": "code",
        "outputId": "f60df4b1-0427-4ce2-9e3c-ba3c8a1a2db9",
        "colab": {
          "base_uri": "https://localhost:8080/",
          "height": 51
        }
      },
      "source": [
        "# use the CountVectorizer to create the bag-ofwords\n",
        "# matrix as input to the LDA\n",
        "from sklearn.feature_extraction.text import CountVectorizer\n",
        "\n",
        "count = CountVectorizer(stop_words='english',\n",
        "                        max_df=.1,   #we set the maximum document frequency of words to be considered to 10 percent (max_df=.1)\n",
        "                                     # to exclude words that occur too frequently across documents.                        \n",
        "                        max_features=5000)  #we limited the number of words to be considered \n",
        "                                            #to the most frequently occurring 5,000 words\n",
        "X = count.fit_transform(df['review'].values)\n",
        "X"
      ],
      "execution_count": 0,
      "outputs": [
        {
          "output_type": "execute_result",
          "data": {
            "text/plain": [
              "<50000x5000 sparse matrix of type '<class 'numpy.int64'>'\n",
              "\twith 2780504 stored elements in Compressed Sparse Row format>"
            ]
          },
          "metadata": {
            "tags": []
          },
          "execution_count": 8
        }
      ]
    },
    {
      "cell_type": "code",
      "metadata": {
        "id": "CQ8TDes79eR0",
        "colab_type": "code",
        "colab": {}
      },
      "source": [
        "# Fit a LatentDirichletAllocation\n",
        "# estimator to the bag-of-words matrix and infer the 10 different topics from the\n",
        "# documents(take 10 mints to run the whole dataset)\n",
        "\n",
        "from sklearn.decomposition import LatentDirichletAllocation\n",
        "\n",
        "lda = LatentDirichletAllocation(n_components=10,\n",
        "                                random_state=123)\n",
        "\n",
        "X_topics = lda.fit_transform(X)"
      ],
      "execution_count": 0,
      "outputs": []
    },
    {
      "cell_type": "code",
      "metadata": {
        "id": "Wk6I1GKx9eb6",
        "colab_type": "code",
        "outputId": "94dc9b90-14ea-4de3-ff14-46564213b51f",
        "colab": {
          "base_uri": "https://localhost:8080/",
          "height": 357
        }
      },
      "source": [
        "# To analyze the results, let's print the five most important words for each of the\n",
        "# 10 topics. Note that the word importance values are ranked in increasing order.\n",
        "# Thus, to print the top five words, we need to sort the topic array in reverse order\n",
        "\n",
        "n_top_words = 5\n",
        "feature_names = count.get_feature_names()\n",
        "\n",
        "for topic_idx, topic in enumerate(lda.components_):\n",
        "    print(\"Topic %d:\" % (topic_idx + 1))\n",
        "    print(\" \".join([feature_names[i]\n",
        "                    for i in topic.argsort()\\\n",
        "                        [:-n_top_words - 1:-1]]))"
      ],
      "execution_count": 0,
      "outputs": [
        {
          "output_type": "stream",
          "text": [
            "Topic 1:\n",
            "worst minutes awful script stupid\n",
            "Topic 2:\n",
            "family mother father children girl\n",
            "Topic 3:\n",
            "american war dvd music tv\n",
            "Topic 4:\n",
            "human audience cinema art sense\n",
            "Topic 5:\n",
            "police guy car dead murder\n",
            "Topic 6:\n",
            "horror house sex girl woman\n",
            "Topic 7:\n",
            "role performance comedy actor performances\n",
            "Topic 8:\n",
            "series episode war episodes tv\n",
            "Topic 9:\n",
            "book version original read novel\n",
            "Topic 10:\n",
            "action fight guy guys cool\n"
          ],
          "name": "stdout"
        }
      ]
    },
    {
      "cell_type": "code",
      "metadata": {
        "id": "Gf7iYPPH9els",
        "colab_type": "code",
        "colab": {}
      },
      "source": [
        ""
      ],
      "execution_count": 0,
      "outputs": []
    },
    {
      "cell_type": "markdown",
      "metadata": {
        "id": "snHauZBHIk6i",
        "colab_type": "text"
      },
      "source": [
        "**Sentiment Analysis**"
      ]
    },
    {
      "cell_type": "code",
      "metadata": {
        "id": "3wKsdOCV_emu",
        "colab_type": "code",
        "colab": {}
      },
      "source": [
        "import tensorflow as tf\n",
        "\n",
        "from __future__ import absolute_import, division, print_function, unicode_literals\n",
        "\n",
        "import tensorflow_datasets as tfds\n",
        "import tensorflow as tf"
      ],
      "execution_count": 0,
      "outputs": []
    },
    {
      "cell_type": "code",
      "metadata": {
        "id": "i4l05rRM_eyX",
        "colab_type": "code",
        "outputId": "a1cbb440-3637-47a9-95ba-539743389f2d",
        "colab": {
          "base_uri": "https://localhost:8080/",
          "height": 350,
          "referenced_widgets": [
            "4952b5b5f71e4f719ecdd9f05b07d132",
            "83842d5d30724c61a4789d78602b56ec",
            "e1ac045b56dc4aefa6191f31b50a5c04",
            "ad7954b42d3d417993240b6a1f228259",
            "e983a8779d39479888adab368977e260",
            "4afdc1cc2e704ee09abcefe7cdc6bc4c",
            "5ec17fac357847cc83c0d5170cd8a379",
            "6dfa72357e3c49bfb9cd71e4a4204cda",
            "6cde11155ebb402081f80042fa66f7f8",
            "2670f2b9118148dd9503eb3f88deadac",
            "d121cdabf47a49faa5eb628e5c047867",
            "984845187f6249ecb7a5a29ad84b5fcc",
            "8c9a33ada01a4dff9e235711469cc397",
            "724ff73886154cfdbe2899201f284b76",
            "80c490d988e247ccb3d836b5d31af73e",
            "82b7f755488b4653bc1335e23bd154e6",
            "71f5471a168c49a7a72666680ba2725a",
            "d947de25ef0140578e770238927005dd",
            "2d25a20388f849349400d1b9c1dfb973",
            "ad5a160409044254aa4fb50ad304981e",
            "faf45e20b8814397b7d84d7b6f91654c",
            "147c1124cf7c473abf181de27ee89034",
            "0cd8ae40b9e74815af0fb87835202a52",
            "2c9563e7ecbb4f61af066fa37cc86ec4",
            "3c5da87ae0dd4ca0b4d61ef2a0fc3378",
            "f437ea84ad7d408796642cd9888a8fda",
            "7f0247d554ab48d3aca04780d9e08a49",
            "4051e02e261545c59e2c46dbee41ece1",
            "ad892f1e3f61498e88f818cf101768fb",
            "73f1fa0f237d454aa802422624411170",
            "ee58caddec904ef7a613c5e735433fef",
            "cfc827687c9d40f39a2e25cb50fc8157",
            "017c39ddb26541d38b881164583da597",
            "d85165c2eb5542e9944daa8d9efd1596",
            "0b88b1d5f02846cf8be486567c014d9f",
            "ef81e4b9888349f6a7c080b85b8da9ad",
            "ebd96ea1c7244157a7964526c9a898a9",
            "69e9187f6dc94c0695704ff5830ac289",
            "9b2dde52d5a545e0b2d49464b5ff6ee4",
            "6cd8152bbafe4f8687c5816ebaaa249f",
            "bccac32114ee451fadcf3b92519493a2",
            "ce44287346704ce8a1e5dcb5b0677685",
            "ddc5c1b52e4c4be1a4e18cb8d21484dc",
            "51eed9f1d9834b84acdec691d81b17b2",
            "e30bcb3852974c338d6f68e94cfd58a4",
            "5c3029a4c4dd423da3f9d279655293b3",
            "262803ee36e14d429cd1322794389219",
            "d2ac723e30794a58b1c786727e672719",
            "761feb594e504054b606304fc997aacd",
            "b2b2572c1cf84be5b9448151790a0756",
            "08471515609e470892df5ad5237139cd",
            "d02a08fbfa6a411a8bb45a48a6e803ef",
            "888336dc9a7f4e5dacc45b9fc5a744ed",
            "dc81c56e1ea94adba66e60449773f577",
            "ee29bee9f5ca4beaab6794f5e3b5c6b9",
            "52b771c2921a4b1095ef2ca6e3923787",
            "dd31e6422cf64dce9ffecc820af368dd",
            "6b8da16ecea74d678a19e2b6316e1fb5",
            "85190506bd074c82b3be87bbd1f8612f",
            "5d17d5772f4047ecba83033f73cb4ce2",
            "a31d003c2add498784a4a2c8df86b659",
            "9760b352bc0b4c41b7fcff791e4b7030",
            "289591cf0122421e9b2b7bae9a9decf1",
            "dbb6633e600f4c43b150def8ab10cd82"
          ]
        }
      },
      "source": [
        "# Get the data(Will take about 3 mints)\n",
        "# Use the version pre-encoded with an ~8k vocabulary.  # Also return the `info` structure. \n",
        "dataset, info = tfds.load('imdb_reviews/subwords8k', with_info=True, as_supervised=True)\n",
        "# Return (example, label) pairs from the dataset (instead of a dictionary).\n",
        "train_dataset, test_dataset = dataset['train'], dataset['test']"
      ],
      "execution_count": 0,
      "outputs": [
        {
          "output_type": "stream",
          "text": [
            "\u001b[1mDownloading and preparing dataset imdb_reviews/subwords8k/1.0.0 (download: 80.23 MiB, generated: Unknown size, total: 80.23 MiB) to /root/tensorflow_datasets/imdb_reviews/subwords8k/1.0.0...\u001b[0m\n"
          ],
          "name": "stdout"
        },
        {
          "output_type": "display_data",
          "data": {
            "application/vnd.jupyter.widget-view+json": {
              "model_id": "4952b5b5f71e4f719ecdd9f05b07d132",
              "version_minor": 0,
              "version_major": 2
            },
            "text/plain": [
              "HBox(children=(IntProgress(value=1, bar_style='info', description='Dl Completed...', max=1, style=ProgressStyl…"
            ]
          },
          "metadata": {
            "tags": []
          }
        },
        {
          "output_type": "display_data",
          "data": {
            "application/vnd.jupyter.widget-view+json": {
              "model_id": "6cde11155ebb402081f80042fa66f7f8",
              "version_minor": 0,
              "version_major": 2
            },
            "text/plain": [
              "HBox(children=(IntProgress(value=1, bar_style='info', description='Dl Size...', max=1, style=ProgressStyle(des…"
            ]
          },
          "metadata": {
            "tags": []
          }
        },
        {
          "output_type": "stream",
          "text": [
            "\n",
            "\n",
            "\n",
            "\n"
          ],
          "name": "stdout"
        },
        {
          "output_type": "display_data",
          "data": {
            "application/vnd.jupyter.widget-view+json": {
              "model_id": "71f5471a168c49a7a72666680ba2725a",
              "version_minor": 0,
              "version_major": 2
            },
            "text/plain": [
              "HBox(children=(IntProgress(value=1, bar_style='info', max=1), HTML(value='')))"
            ]
          },
          "metadata": {
            "tags": []
          }
        },
        {
          "output_type": "stream",
          "text": [
            "\rShuffling and writing examples to /root/tensorflow_datasets/imdb_reviews/subwords8k/1.0.0.incompleteBPCFY2/imdb_reviews-train.tfrecord\n"
          ],
          "name": "stdout"
        },
        {
          "output_type": "display_data",
          "data": {
            "application/vnd.jupyter.widget-view+json": {
              "model_id": "3c5da87ae0dd4ca0b4d61ef2a0fc3378",
              "version_minor": 0,
              "version_major": 2
            },
            "text/plain": [
              "HBox(children=(IntProgress(value=0, max=25000), HTML(value='')))"
            ]
          },
          "metadata": {
            "tags": []
          }
        },
        {
          "output_type": "stream",
          "text": [
            "\r"
          ],
          "name": "stdout"
        },
        {
          "output_type": "display_data",
          "data": {
            "application/vnd.jupyter.widget-view+json": {
              "model_id": "017c39ddb26541d38b881164583da597",
              "version_minor": 0,
              "version_major": 2
            },
            "text/plain": [
              "HBox(children=(IntProgress(value=1, bar_style='info', max=1), HTML(value='')))"
            ]
          },
          "metadata": {
            "tags": []
          }
        },
        {
          "output_type": "stream",
          "text": [
            "\rShuffling and writing examples to /root/tensorflow_datasets/imdb_reviews/subwords8k/1.0.0.incompleteBPCFY2/imdb_reviews-test.tfrecord\n"
          ],
          "name": "stdout"
        },
        {
          "output_type": "display_data",
          "data": {
            "application/vnd.jupyter.widget-view+json": {
              "model_id": "bccac32114ee451fadcf3b92519493a2",
              "version_minor": 0,
              "version_major": 2
            },
            "text/plain": [
              "HBox(children=(IntProgress(value=0, max=25000), HTML(value='')))"
            ]
          },
          "metadata": {
            "tags": []
          }
        },
        {
          "output_type": "stream",
          "text": [
            "\r"
          ],
          "name": "stdout"
        },
        {
          "output_type": "display_data",
          "data": {
            "application/vnd.jupyter.widget-view+json": {
              "model_id": "761feb594e504054b606304fc997aacd",
              "version_minor": 0,
              "version_major": 2
            },
            "text/plain": [
              "HBox(children=(IntProgress(value=1, bar_style='info', max=1), HTML(value='')))"
            ]
          },
          "metadata": {
            "tags": []
          }
        },
        {
          "output_type": "stream",
          "text": [
            "\rShuffling and writing examples to /root/tensorflow_datasets/imdb_reviews/subwords8k/1.0.0.incompleteBPCFY2/imdb_reviews-unsupervised.tfrecord\n"
          ],
          "name": "stdout"
        },
        {
          "output_type": "display_data",
          "data": {
            "application/vnd.jupyter.widget-view+json": {
              "model_id": "dd31e6422cf64dce9ffecc820af368dd",
              "version_minor": 0,
              "version_major": 2
            },
            "text/plain": [
              "HBox(children=(IntProgress(value=0, max=50000), HTML(value='')))"
            ]
          },
          "metadata": {
            "tags": []
          }
        },
        {
          "output_type": "stream",
          "text": [
            "\u001b[1mDataset imdb_reviews downloaded and prepared to /root/tensorflow_datasets/imdb_reviews/subwords8k/1.0.0. Subsequent calls will reuse this data.\u001b[0m\n",
            "\r"
          ],
          "name": "stdout"
        }
      ]
    },
    {
      "cell_type": "markdown",
      "metadata": {
        "id": "o-K7_WcVAslY",
        "colab_type": "text"
      },
      "source": [
        "Try Encoder"
      ]
    },
    {
      "cell_type": "code",
      "metadata": {
        "id": "WGr5fvIQ_e8s",
        "colab_type": "code",
        "outputId": "90d5a22b-fbb7-45ad-f5ad-f999a11f88f8",
        "colab": {
          "base_uri": "https://localhost:8080/",
          "height": 34
        }
      },
      "source": [
        "tokenizer = info.features['text'].encoder\n",
        "print ('Vocabulary size: {}'.format(tokenizer.vocab_size))"
      ],
      "execution_count": 0,
      "outputs": [
        {
          "output_type": "stream",
          "text": [
            "Vocabulary size: 8185\n"
          ],
          "name": "stdout"
        }
      ]
    },
    {
      "cell_type": "markdown",
      "metadata": {
        "id": "-shEgxkLA6lU",
        "colab_type": "text"
      },
      "source": [
        ""
      ]
    },
    {
      "cell_type": "code",
      "metadata": {
        "id": "CjlbVzuL_fGr",
        "colab_type": "code",
        "colab": {}
      },
      "source": [
        "BUFFER_SIZE = 1000\n",
        "BATCH_SIZE = 64\n",
        "\n",
        "train_dataset = train_dataset.shuffle(BUFFER_SIZE)\n",
        "train_dataset = train_dataset.padded_batch(BATCH_SIZE, tf.compat.v1.data.get_output_shapes(train_dataset))\n",
        "test_dataset = test_dataset.padded_batch(BATCH_SIZE, tf.compat.v1.data.get_output_shapes(test_dataset))\n",
        "\n"
      ],
      "execution_count": 0,
      "outputs": []
    },
    {
      "cell_type": "code",
      "metadata": {
        "id": "dotVBU68BB0J",
        "colab_type": "code",
        "outputId": "9310dbd1-a32a-4e2d-aec4-2a338dcd0528",
        "colab": {
          "base_uri": "https://localhost:8080/",
          "height": 85
        }
      },
      "source": [
        "for example_batch, label_batch in train_dataset.take(2):\n",
        "  print(\"Batch shape:\", example_batch.shape)\n",
        "  print(\"label shape:\", label_batch.shape)\n",
        "  "
      ],
      "execution_count": 0,
      "outputs": [
        {
          "output_type": "stream",
          "text": [
            "Batch shape: (64, 1615)\n",
            "label shape: (64,)\n",
            "Batch shape: (64, 1048)\n",
            "label shape: (64,)\n"
          ],
          "name": "stdout"
        }
      ]
    },
    {
      "cell_type": "markdown",
      "metadata": {
        "id": "qTaAQRzcBG9O",
        "colab_type": "text"
      },
      "source": [
        "Model"
      ]
    },
    {
      "cell_type": "code",
      "metadata": {
        "id": "A-h9K_UUBHx6",
        "colab_type": "code",
        "colab": {}
      },
      "source": [
        "model = tf.keras.Sequential([\n",
        "    tf.keras.layers.Embedding(tokenizer.vocab_size, 32),\n",
        "    tf.keras.layers.Bidirectional(tf.keras.layers.LSTM(16)),\n",
        "    tf.keras.layers.Dense(16, activation='relu'),\n",
        "    tf.keras.layers.Dense(1, activation='sigmoid')\n",
        "])"
      ],
      "execution_count": 0,
      "outputs": []
    },
    {
      "cell_type": "code",
      "metadata": {
        "id": "FFWQaoNMBJ47",
        "colab_type": "code",
        "outputId": "4f222aa7-fbb8-41e3-d1a0-cc30b946e67c",
        "colab": {
          "base_uri": "https://localhost:8080/",
          "height": 289
        }
      },
      "source": [
        "model.summary()"
      ],
      "execution_count": 0,
      "outputs": [
        {
          "output_type": "stream",
          "text": [
            "Model: \"sequential\"\n",
            "_________________________________________________________________\n",
            "Layer (type)                 Output Shape              Param #   \n",
            "=================================================================\n",
            "embedding (Embedding)        (None, None, 32)          261920    \n",
            "_________________________________________________________________\n",
            "bidirectional (Bidirectional (None, 32)                6272      \n",
            "_________________________________________________________________\n",
            "dense (Dense)                (None, 16)                528       \n",
            "_________________________________________________________________\n",
            "dense_1 (Dense)              (None, 1)                 17        \n",
            "=================================================================\n",
            "Total params: 268,737\n",
            "Trainable params: 268,737\n",
            "Non-trainable params: 0\n",
            "_________________________________________________________________\n"
          ],
          "name": "stdout"
        }
      ]
    },
    {
      "cell_type": "code",
      "metadata": {
        "id": "ThtJ42PEBLdY",
        "colab_type": "code",
        "outputId": "cd063457-f46a-47de-9b3c-5858638f4345",
        "colab": {
          "base_uri": "https://localhost:8080/",
          "height": 377
        }
      },
      "source": [
        "model.compile(loss='binary_crossentropy', optimizer='adam', metrics=['accuracy'])\n",
        "\n",
        "NUM_EPOCHS = 10\n",
        "\n",
        "history = model.fit(train_dataset, epochs=NUM_EPOCHS, validation_data=test_dataset, validation_steps=39,steps_per_epoch=39)  "
      ],
      "execution_count": 0,
      "outputs": [
        {
          "output_type": "stream",
          "text": [
            "Epoch 1/10\n",
            "39/39 [==============================] - 50s 1s/step - loss: 0.2454 - accuracy: 0.9123 - val_loss: 0.4041 - val_accuracy: 0.8385\n",
            "Epoch 2/10\n",
            "39/39 [==============================] - 43s 1s/step - loss: 0.2303 - accuracy: 0.9219 - val_loss: 0.3835 - val_accuracy: 0.8554\n",
            "Epoch 3/10\n",
            "39/39 [==============================] - 47s 1s/step - loss: 0.2273 - accuracy: 0.9199 - val_loss: 0.3798 - val_accuracy: 0.8498\n",
            "Epoch 4/10\n",
            "39/39 [==============================] - 45s 1s/step - loss: 0.2292 - accuracy: 0.9123 - val_loss: 0.3935 - val_accuracy: 0.8405\n",
            "Epoch 5/10\n",
            "39/39 [==============================] - 46s 1s/step - loss: 0.2063 - accuracy: 0.9295 - val_loss: 0.3931 - val_accuracy: 0.8526\n",
            "Epoch 6/10\n",
            "39/39 [==============================] - 47s 1s/step - loss: 0.1903 - accuracy: 0.9347 - val_loss: 0.3839 - val_accuracy: 0.8518\n",
            "Epoch 7/10\n",
            "39/39 [==============================] - 45s 1s/step - loss: 0.2244 - accuracy: 0.9159 - val_loss: 0.3971 - val_accuracy: 0.8494\n",
            "Epoch 8/10\n",
            "39/39 [==============================] - 47s 1s/step - loss: 0.2357 - accuracy: 0.9143 - val_loss: 0.3975 - val_accuracy: 0.8401\n",
            "Epoch 9/10\n",
            "39/39 [==============================] - 48s 1s/step - loss: 0.2627 - accuracy: 0.9042 - val_loss: 0.4105 - val_accuracy: 0.8514\n",
            "Epoch 10/10\n",
            "39/39 [==============================] - 45s 1s/step - loss: 0.2420 - accuracy: 0.9163 - val_loss: 0.4211 - val_accuracy: 0.8305\n"
          ],
          "name": "stdout"
        }
      ]
    },
    {
      "cell_type": "markdown",
      "metadata": {
        "id": "6XCNUsNV_fXE",
        "colab_type": "text"
      },
      "source": [
        "LSTM Model using Warren Buffett's 2015-2019 annual letters to shareholders "
      ]
    },
    {
      "cell_type": "code",
      "metadata": {
        "id": "Nhb9u2zL-t33",
        "colab_type": "code",
        "colab": {}
      },
      "source": [
        "from tensorflow.keras.preprocessing.sequence import pad_sequences\n",
        "from tensorflow.keras.layers import Embedding, LSTM, Dense, Dropout, Bidirectional\n",
        "from tensorflow.keras.preprocessing.text import Tokenizer\n",
        "from tensorflow.keras.models import Sequential\n",
        "from tensorflow.keras.optimizers import Adam\n",
        "from tensorflow.keras import regularizers\n",
        "import tensorflow.keras.utils as ku \n",
        "import numpy as np "
      ],
      "execution_count": 0,
      "outputs": []
    },
    {
      "cell_type": "code",
      "metadata": {
        "id": "Podc86GX-uCA",
        "colab_type": "code",
        "colab": {}
      },
      "source": [
        "tokenizer = Tokenizer()\n",
        "\n",
        "data = open('2015-2019.txt').read()\n",
        "\n",
        "corpus = data.lower().split(\"\\n\")\n",
        "\n",
        "\n",
        "tokenizer.fit_on_texts(corpus)\n",
        "total_words = len(tokenizer.word_index) + 1\n",
        "\n",
        "# create input sequences using list of tokens\n",
        "# example:[[I, am], [I, am, Joe], [I, am, Joe, Zhou]] -> [[1,2],[1,2,85],[1,2,85,5]]\n",
        "input_sequences = []\n",
        "for line in corpus:\n",
        "\ttoken_list = tokenizer.texts_to_sequences([line])[0]\n",
        "\tfor i in range(1, len(token_list)):\n",
        "\t\tn_gram_sequence = token_list[:i+1]\n",
        "\t\tinput_sequences.append(n_gram_sequence)\n",
        "\n",
        "\n",
        "# pad sequences \n",
        "# example:[[1,2],[1,2,85],[1,2,85,5]] ->[[0,0,1,2],[0,1,2,85],[1,2,85,5]]\n",
        "max_sequence_len = max([len(x) for x in input_sequences])\n",
        "input_sequences = np.array(pad_sequences(input_sequences, maxlen=max_sequence_len, padding='pre'))#\"pre means put 0 at the front instead of at the end\"\n",
        "\n",
        "# create predictors and label\n",
        "# example: [1,2,85,5]:[1,2,85],[5]\n",
        "\n",
        "predictors, label = input_sequences[:,:-1],input_sequences[:,-1]\n",
        "\n",
        "label = ku.to_categorical(label, num_classes=total_words)"
      ],
      "execution_count": 0,
      "outputs": []
    },
    {
      "cell_type": "code",
      "metadata": {
        "id": "5smvYmTp_CRT",
        "colab_type": "code",
        "outputId": "b2a7df9f-5509-43d1-fe69-f791c84abbc4",
        "colab": {
          "base_uri": "https://localhost:8080/",
          "height": 306
        }
      },
      "source": [
        "model = Sequential()\n",
        "model.add(Embedding(total_words, 100, input_length=max_sequence_len-1))\n",
        "model.add(Bidirectional(LSTM(150)))\n",
        "model.add(Dropout(0.2))\n",
        "model.add(Dense(total_words, activation='softmax'))\n",
        "\n",
        "model.compile(loss = 'categorical_crossentropy',optimizer = 'adam',metrics = ['accuracy'])\n",
        "print(model.summary())"
      ],
      "execution_count": 0,
      "outputs": [
        {
          "output_type": "stream",
          "text": [
            "Model: \"sequential\"\n",
            "_________________________________________________________________\n",
            "Layer (type)                 Output Shape              Param #   \n",
            "=================================================================\n",
            "embedding (Embedding)        (None, 29, 100)           302700    \n",
            "_________________________________________________________________\n",
            "bidirectional (Bidirectional (None, 300)               301200    \n",
            "_________________________________________________________________\n",
            "dropout (Dropout)            (None, 300)               0         \n",
            "_________________________________________________________________\n",
            "dense (Dense)                (None, 3027)              911127    \n",
            "=================================================================\n",
            "Total params: 1,515,027\n",
            "Trainable params: 1,515,027\n",
            "Non-trainable params: 0\n",
            "_________________________________________________________________\n",
            "None\n"
          ],
          "name": "stdout"
        }
      ]
    },
    {
      "cell_type": "code",
      "metadata": {
        "id": "mIUNXuJj_Mdg",
        "colab_type": "code",
        "outputId": "6a2ef78a-2040-411c-be5c-7cf2b94c7048",
        "colab": {
          "base_uri": "https://localhost:8080/",
          "height": 1000
        }
      },
      "source": [
        " history = model.fit(predictors, label, epochs=50, verbose=1)"
      ],
      "execution_count": 0,
      "outputs": [
        {
          "output_type": "stream",
          "text": [
            "Epoch 1/50\n",
            "482/482 [==============================] - 45s 94ms/step - loss: 6.3388 - accuracy: 0.0483\n",
            "Epoch 2/50\n",
            "482/482 [==============================] - 45s 94ms/step - loss: 5.9853 - accuracy: 0.0623\n",
            "Epoch 3/50\n",
            "482/482 [==============================] - 45s 94ms/step - loss: 5.6519 - accuracy: 0.0749\n",
            "Epoch 4/50\n",
            "482/482 [==============================] - 46s 95ms/step - loss: 5.3157 - accuracy: 0.0923\n",
            "Epoch 5/50\n",
            "482/482 [==============================] - 46s 95ms/step - loss: 4.9583 - accuracy: 0.1184\n",
            "Epoch 6/50\n",
            "482/482 [==============================] - 46s 94ms/step - loss: 4.6031 - accuracy: 0.1475\n",
            "Epoch 7/50\n",
            "482/482 [==============================] - 45s 94ms/step - loss: 4.2691 - accuracy: 0.1839\n",
            "Epoch 8/50\n",
            "482/482 [==============================] - 46s 95ms/step - loss: 3.9526 - accuracy: 0.2248\n",
            "Epoch 9/50\n",
            "482/482 [==============================] - 46s 95ms/step - loss: 3.6416 - accuracy: 0.2691\n",
            "Epoch 10/50\n",
            "482/482 [==============================] - 45s 94ms/step - loss: 3.3482 - accuracy: 0.3211\n",
            "Epoch 11/50\n",
            "482/482 [==============================] - 46s 95ms/step - loss: 3.0765 - accuracy: 0.3724\n",
            "Epoch 12/50\n",
            "482/482 [==============================] - 46s 95ms/step - loss: 2.8238 - accuracy: 0.4238\n",
            "Epoch 13/50\n",
            "482/482 [==============================] - 45s 94ms/step - loss: 2.5801 - accuracy: 0.4683\n",
            "Epoch 14/50\n",
            "482/482 [==============================] - 50s 104ms/step - loss: 2.3666 - accuracy: 0.5142\n",
            "Epoch 15/50\n",
            "482/482 [==============================] - 46s 95ms/step - loss: 2.1635 - accuracy: 0.5528\n",
            "Epoch 16/50\n",
            "482/482 [==============================] - 46s 95ms/step - loss: 1.9868 - accuracy: 0.5874\n",
            "Epoch 17/50\n",
            "482/482 [==============================] - 46s 95ms/step - loss: 1.8117 - accuracy: 0.6250\n",
            "Epoch 18/50\n",
            "482/482 [==============================] - 46s 95ms/step - loss: 1.6582 - accuracy: 0.6570\n",
            "Epoch 19/50\n",
            "482/482 [==============================] - 46s 95ms/step - loss: 1.5221 - accuracy: 0.6837\n",
            "Epoch 20/50\n",
            "482/482 [==============================] - 45s 94ms/step - loss: 1.3943 - accuracy: 0.7115\n",
            "Epoch 21/50\n",
            "482/482 [==============================] - 46s 95ms/step - loss: 1.2756 - accuracy: 0.7353\n",
            "Epoch 22/50\n",
            "482/482 [==============================] - 46s 95ms/step - loss: 1.1766 - accuracy: 0.7538\n",
            "Epoch 23/50\n",
            "482/482 [==============================] - 46s 95ms/step - loss: 1.0717 - accuracy: 0.7751\n",
            "Epoch 24/50\n",
            "482/482 [==============================] - 45s 94ms/step - loss: 0.9842 - accuracy: 0.7969\n",
            "Epoch 25/50\n",
            "482/482 [==============================] - 46s 95ms/step - loss: 0.9151 - accuracy: 0.8090\n",
            "Epoch 26/50\n",
            "482/482 [==============================] - 46s 96ms/step - loss: 0.8390 - accuracy: 0.8275\n",
            "Epoch 27/50\n",
            "482/482 [==============================] - 53s 109ms/step - loss: 0.7687 - accuracy: 0.8406\n",
            "Epoch 28/50\n",
            "482/482 [==============================] - 46s 96ms/step - loss: 0.7178 - accuracy: 0.8493\n",
            "Epoch 29/50\n",
            "482/482 [==============================] - 46s 96ms/step - loss: 0.6642 - accuracy: 0.8589\n",
            "Epoch 30/50\n",
            "482/482 [==============================] - 46s 96ms/step - loss: 0.6116 - accuracy: 0.8735\n",
            "Epoch 31/50\n",
            "482/482 [==============================] - 46s 96ms/step - loss: 0.5576 - accuracy: 0.8845\n",
            "Epoch 32/50\n",
            "482/482 [==============================] - 46s 95ms/step - loss: 0.5287 - accuracy: 0.8892\n",
            "Epoch 33/50\n",
            "482/482 [==============================] - 46s 95ms/step - loss: 0.5012 - accuracy: 0.8939\n",
            "Epoch 34/50\n",
            "482/482 [==============================] - 46s 96ms/step - loss: 0.4598 - accuracy: 0.9061\n",
            "Epoch 35/50\n",
            "482/482 [==============================] - 45s 94ms/step - loss: 0.4349 - accuracy: 0.9090\n",
            "Epoch 36/50\n",
            "482/482 [==============================] - 46s 95ms/step - loss: 0.4005 - accuracy: 0.9171\n",
            "Epoch 37/50\n",
            "482/482 [==============================] - 46s 95ms/step - loss: 0.3754 - accuracy: 0.9210\n",
            "Epoch 38/50\n",
            "482/482 [==============================] - 46s 95ms/step - loss: 0.3651 - accuracy: 0.9222\n",
            "Epoch 39/50\n",
            "482/482 [==============================] - 46s 95ms/step - loss: 0.3416 - accuracy: 0.9275\n",
            "Epoch 40/50\n",
            "482/482 [==============================] - 50s 105ms/step - loss: 0.3268 - accuracy: 0.9298\n",
            "Epoch 41/50\n",
            "482/482 [==============================] - 46s 94ms/step - loss: 0.3219 - accuracy: 0.9299\n",
            "Epoch 42/50\n",
            "482/482 [==============================] - 45s 94ms/step - loss: 0.3180 - accuracy: 0.9296\n",
            "Epoch 43/50\n",
            "482/482 [==============================] - 46s 95ms/step - loss: 0.2932 - accuracy: 0.9349\n",
            "Epoch 44/50\n",
            "482/482 [==============================] - 46s 94ms/step - loss: 0.2803 - accuracy: 0.9384\n",
            "Epoch 45/50\n",
            "482/482 [==============================] - 45s 94ms/step - loss: 0.2769 - accuracy: 0.9389\n",
            "Epoch 46/50\n",
            "482/482 [==============================] - 45s 94ms/step - loss: 0.2656 - accuracy: 0.9399\n",
            "Epoch 47/50\n",
            "482/482 [==============================] - 46s 95ms/step - loss: 0.2449 - accuracy: 0.9449\n",
            "Epoch 48/50\n",
            "482/482 [==============================] - 46s 96ms/step - loss: 0.2404 - accuracy: 0.9457\n",
            "Epoch 49/50\n",
            "482/482 [==============================] - 46s 94ms/step - loss: 0.2319 - accuracy: 0.9472\n",
            "Epoch 50/50\n",
            "482/482 [==============================] - 45s 94ms/step - loss: 0.2347 - accuracy: 0.9455\n"
          ],
          "name": "stdout"
        }
      ]
    },
    {
      "cell_type": "code",
      "metadata": {
        "id": "9kEeZxc6IWU7",
        "colab_type": "code",
        "outputId": "fdeb9a19-847e-40ed-8d71-eb94c9bb7286",
        "colab": {
          "base_uri": "https://localhost:8080/",
          "height": 573
        }
      },
      "source": [
        "import matplotlib.pyplot as plt\n",
        "acc = history.history['accuracy']\n",
        "loss = history.history['loss']\n",
        "\n",
        "epochs = range(len(acc))\n",
        "\n",
        "plt.plot(epochs, acc, 'b')\n",
        "plt.title('Training accuracy')\n",
        "plt.xlabel('Number of Epochs')\n",
        "plt.ylabel('Accuracy')\n",
        "\n",
        "\n",
        "plt.figure()\n",
        "plt.plot(epochs, loss, 'b')\n",
        "plt.title('Training loss')\n",
        "plt.xlabel('Number of Epochs')\n",
        "plt.ylabel('Loss')\n",
        "\n",
        "plt.show()"
      ],
      "execution_count": 0,
      "outputs": [
        {
          "output_type": "display_data",
          "data": {
            "image/png": "[encoded data removed]",
            "text/plain": [
              "<Figure size 432x288 with 1 Axes>"
            ]
          },
          "metadata": {
            "tags": [],
            "needs_background": "light"
          }
        },
        {
          "output_type": "display_data",
          "data": {
            "image/png": "[encoded data removed]",
            "text/plain": [
              "<Figure size 432x288 with 1 Axes>"
            ]
          },
          "metadata": {
            "tags": [],
            "needs_background": "light"
          }
        }
      ]
    },
    {
      "cell_type": "code",
      "metadata": {
        "id": "iqnTmYinJvVs",
        "colab_type": "code",
        "outputId": "edbd2485-6b9f-457a-fe97-1473469a98d9",
        "colab": {
          "base_uri": "https://localhost:8080/",
          "height": 54
        }
      },
      "source": [
        "seed_text = \"This is my favorate stock, and it is a great company. In 2020 We should invest in\"\n",
        "next_words = 50\n",
        "  \n",
        "for _ in range(next_words):\n",
        "\ttoken_list = tokenizer.texts_to_sequences([seed_text])[0]\n",
        "\ttoken_list = pad_sequences([token_list], maxlen=max_sequence_len-1, padding='pre')\n",
        "\tpredicted = model.predict_classes(token_list, verbose=0)\n",
        "\toutput_word = \"\"\n",
        "\tfor word, index in tokenizer.word_index.items():\n",
        "\t\tif index == predicted:\n",
        "\t\t\toutput_word = word\n",
        "\t\t\tbreak\n",
        "\tseed_text += \" \" + output_word\n",
        "print(seed_text)"
      ],
      "execution_count": 0,
      "outputs": [
        {
          "output_type": "stream",
          "text": [
            "This is my favorate stock, and it is a great company. In 2020 We should invest in the years that we need at opposite times for the boss to cheat a little worth to the total of the meantime was rapidly growth to receive was a long time investment 1942 was a book of a director of portland gas light in the years following if the left\n"
          ],
          "name": "stdout"
        }
      ]
    }
  ]
}