{
  "nbformat": 4,
  "nbformat_minor": 0,
  "metadata": {
    "colab": {
      "name": "Assignment_2.ipynb",
      "provenance": [],
      "collapsed_sections": []
    },
    "kernelspec": {
      "name": "python3",
      "display_name": "Python 3"
    }
  },
  "cells": [
    {
      "cell_type": "markdown",
      "metadata": {
        "id": "r5HRF86MQU5x",
        "colab_type": "text"
      },
      "source": [
        "Mounting Google Drive to load the data"
      ]
    },
    {
      "cell_type": "code",
      "metadata": {
        "id": "0i8FoT8BGS-g",
        "colab_type": "code",
        "outputId": "06c18a35-df46-4b22-83a2-fd341d253c91",
        "colab": {
          "base_uri": "https://localhost:8080/",
          "height": 122
        }
      },
      "source": [
        "#mounting drive\n",
        "from google.colab import drive\n",
        "drive.mount('/content/drive')"
      ],
      "execution_count": 0,
      "outputs": [
        {
          "output_type": "stream",
          "text": [
            "Go to this URL in a browser: https://accounts.google.com/o/oauth2/auth?client_id=947318989803-6bn6qk8qdgf4n4g3pfee6491hc0brc4i.apps.googleusercontent.com&redirect_uri=urn%3aietf%3awg%3aoauth%3a2.0%3aoob&response_type=code&scope=email%20https%3a%2f%2fwww.googleapis.com%2fauth%2fdocs.test%20https%3a%2f%2fwww.googleapis.com%2fauth%2fdrive%20https%3a%2f%2fwww.googleapis.com%2fauth%2fdrive.photos.readonly%20https%3a%2f%2fwww.googleapis.com%2fauth%2fpeopleapi.readonly\n",
            "\n",
            "Enter your authorization code:\n",
            "··········\n",
            "Mounted at /content/drive\n"
          ],
          "name": "stdout"
        }
      ]
    },
    {
      "cell_type": "code",
      "metadata": {
        "id": "9EfvsHPFGg5v",
        "colab_type": "code",
        "outputId": "84d3e40b-8394-4fbd-c8a0-05ec7966156b",
        "colab": {
          "base_uri": "https://localhost:8080/",
          "height": 34
        }
      },
      "source": [
        "!ls"
      ],
      "execution_count": 0,
      "outputs": [
        {
          "output_type": "stream",
          "text": [
            "drive  sample_data\n"
          ],
          "name": "stdout"
        }
      ]
    },
    {
      "cell_type": "code",
      "metadata": {
        "id": "SfcnRU5QHFx_",
        "colab_type": "code",
        "colab": {}
      },
      "source": [
        "file ='/content/drive/My Drive/Big Data Machine Learning/corpbonds_stocks.csv'"
      ],
      "execution_count": 0,
      "outputs": []
    },
    {
      "cell_type": "markdown",
      "metadata": {
        "id": "8NRBzI6DQcsD",
        "colab_type": "text"
      },
      "source": [
        "## 1)\n",
        " Read the csv file and run exploratory analysis"
      ]
    },
    {
      "cell_type": "code",
      "metadata": {
        "id": "wJMeV7NfHUXz",
        "colab_type": "code",
        "colab": {}
      },
      "source": [
        "import pandas as pd\n",
        "\n",
        "df =pd.read_csv(file,parse_dates=True,index_col='Date')\n"
      ],
      "execution_count": 0,
      "outputs": []
    },
    {
      "cell_type": "code",
      "metadata": {
        "id": "_nfXGRVSHes1",
        "colab_type": "code",
        "outputId": "599927e8-6a29-4d55-d9d7-03db793b4e6a",
        "colab": {
          "base_uri": "https://localhost:8080/",
          "height": 235
        }
      },
      "source": [
        "df.tail()"
      ],
      "execution_count": 0,
      "outputs": [
        {
          "output_type": "execute_result",
          "data": {
            "text/html": [
              "<div>\n",
              "<style scoped>\n",
              "    .dataframe tbody tr th:only-of-type {\n",
              "        vertical-align: middle;\n",
              "    }\n",
              "\n",
              "    .dataframe tbody tr th {\n",
              "        vertical-align: top;\n",
              "    }\n",
              "\n",
              "    .dataframe thead th {\n",
              "        text-align: right;\n",
              "    }\n",
              "</style>\n",
              "<table border=\"1\" class=\"dataframe\">\n",
              "  <thead>\n",
              "    <tr style=\"text-align: right;\">\n",
              "      <th></th>\n",
              "      <th>AAPL-corpbond</th>\n",
              "      <th>HD-corpbond</th>\n",
              "      <th>IBM-corpbond</th>\n",
              "      <th>NKE-corpbond</th>\n",
              "      <th>AAPL-stock</th>\n",
              "      <th>HD-stock</th>\n",
              "      <th>IBM-stock</th>\n",
              "      <th>NKE-stock</th>\n",
              "    </tr>\n",
              "    <tr>\n",
              "      <th>Date</th>\n",
              "      <th></th>\n",
              "      <th></th>\n",
              "      <th></th>\n",
              "      <th></th>\n",
              "      <th></th>\n",
              "      <th></th>\n",
              "      <th></th>\n",
              "      <th></th>\n",
              "    </tr>\n",
              "  </thead>\n",
              "  <tbody>\n",
              "    <tr>\n",
              "      <th>2019-12-24</th>\n",
              "      <td>119.89</td>\n",
              "      <td>128.71</td>\n",
              "      <td>113.85</td>\n",
              "      <td>132.86</td>\n",
              "      <td>500.844423</td>\n",
              "      <td>346.457990</td>\n",
              "      <td>85.164483</td>\n",
              "      <td>350.103645</td>\n",
              "    </tr>\n",
              "    <tr>\n",
              "      <th>2019-12-26</th>\n",
              "      <td>120.11</td>\n",
              "      <td>128.81</td>\n",
              "      <td>113.96</td>\n",
              "      <td>133.22</td>\n",
              "      <td>510.781380</td>\n",
              "      <td>346.693518</td>\n",
              "      <td>85.120318</td>\n",
              "      <td>352.096464</td>\n",
              "    </tr>\n",
              "    <tr>\n",
              "      <th>2019-12-27</th>\n",
              "      <td>120.35</td>\n",
              "      <td>129.10</td>\n",
              "      <td>114.08</td>\n",
              "      <td>133.60</td>\n",
              "      <td>510.587519</td>\n",
              "      <td>345.358979</td>\n",
              "      <td>85.347456</td>\n",
              "      <td>355.103147</td>\n",
              "    </tr>\n",
              "    <tr>\n",
              "      <th>2019-12-30</th>\n",
              "      <td>120.23</td>\n",
              "      <td>129.13</td>\n",
              "      <td>113.98</td>\n",
              "      <td>133.61</td>\n",
              "      <td>513.617947</td>\n",
              "      <td>341.182686</td>\n",
              "      <td>83.795334</td>\n",
              "      <td>352.411123</td>\n",
              "    </tr>\n",
              "    <tr>\n",
              "      <th>2019-12-31</th>\n",
              "      <td>120.21</td>\n",
              "      <td>129.18</td>\n",
              "      <td>114.09</td>\n",
              "      <td>133.41</td>\n",
              "      <td>517.370681</td>\n",
              "      <td>342.862628</td>\n",
              "      <td>84.571390</td>\n",
              "      <td>354.194135</td>\n",
              "    </tr>\n",
              "  </tbody>\n",
              "</table>\n",
              "</div>"
            ],
            "text/plain": [
              "            AAPL-corpbond  HD-corpbond  ...  IBM-stock   NKE-stock\n",
              "Date                                    ...                       \n",
              "2019-12-24         119.89       128.71  ...  85.164483  350.103645\n",
              "2019-12-26         120.11       128.81  ...  85.120318  352.096464\n",
              "2019-12-27         120.35       129.10  ...  85.347456  355.103147\n",
              "2019-12-30         120.23       129.13  ...  83.795334  352.411123\n",
              "2019-12-31         120.21       129.18  ...  84.571390  354.194135\n",
              "\n",
              "[5 rows x 8 columns]"
            ]
          },
          "metadata": {
            "tags": []
          },
          "execution_count": 14
        }
      ]
    },
    {
      "cell_type": "markdown",
      "metadata": {
        "id": "l3d_4_36bACc",
        "colab_type": "text"
      },
      "source": [
        "2)\n",
        " Plotting and checking the data\n",
        " "
      ]
    },
    {
      "cell_type": "code",
      "metadata": {
        "id": "_z9DRqJmHi-m",
        "colab_type": "code",
        "outputId": "79ced345-1bc8-4d00-9e6b-67b2b6776832",
        "colab": {
          "base_uri": "https://localhost:8080/",
          "height": 286
        }
      },
      "source": [
        "df.plot()"
      ],
      "execution_count": 0,
      "outputs": [
        {
          "output_type": "execute_result",
          "data": {
            "text/plain": [
              "<matplotlib.axes._subplots.AxesSubplot at 0x7f45d0c692b0>"
            ]
          },
          "metadata": {
            "tags": []
          },
          "execution_count": 7
        },
        {
          "output_type": "display_data",
          "data": {
            "image/png": "[encoded data removed]",
            "text/plain": [
              "<Figure size 432x288 with 1 Axes>"
            ]
          },
          "metadata": {
            "tags": []
          }
        }
      ]
    },
    {
      "cell_type": "markdown",
      "metadata": {
        "id": "fz3FAh6pZVTd",
        "colab_type": "text"
      },
      "source": [
        "Shape function to check number of rows and columns:\n",
        "There are 1678 rows and 8 columns"
      ]
    },
    {
      "cell_type": "code",
      "metadata": {
        "id": "EBcX-F0ZHv14",
        "colab_type": "code",
        "outputId": "181a3dd5-44ef-4dfc-ea9a-e5855a4d54c3",
        "colab": {
          "base_uri": "https://localhost:8080/",
          "height": 34
        }
      },
      "source": [
        "df.shape"
      ],
      "execution_count": 0,
      "outputs": [
        {
          "output_type": "execute_result",
          "data": {
            "text/plain": [
              "(1678, 8)"
            ]
          },
          "metadata": {
            "tags": []
          },
          "execution_count": 8
        }
      ]
    },
    {
      "cell_type": "code",
      "metadata": {
        "id": "SArcIgpIKuYS",
        "colab_type": "code",
        "outputId": "552abb80-3fcd-42db-c764-613d4fc7a10a",
        "colab": {
          "base_uri": "https://localhost:8080/",
          "height": 170
        }
      },
      "source": [
        "df.isnull().sum()"
      ],
      "execution_count": 0,
      "outputs": [
        {
          "output_type": "execute_result",
          "data": {
            "text/plain": [
              "AAPL-corpbond    0\n",
              "HD-corpbond      0\n",
              "IBM-corpbond     0\n",
              "NKE-corpbond     0\n",
              "AAPL-stock       0\n",
              "HD-stock         0\n",
              "IBM-stock        0\n",
              "NKE-stock        0\n",
              "dtype: int64"
            ]
          },
          "metadata": {
            "tags": []
          },
          "execution_count": 9
        }
      ]
    },
    {
      "cell_type": "markdown",
      "metadata": {
        "id": "ygr7EH4JZeOt",
        "colab_type": "text"
      },
      "source": [
        "There are no null values in the data\n"
      ]
    },
    {
      "cell_type": "code",
      "metadata": {
        "id": "xlgHuqgWIzC2",
        "colab_type": "code",
        "outputId": "a00b3324-a9ac-47df-c942-a30180a315fc",
        "colab": {
          "base_uri": "https://localhost:8080/",
          "height": 297
        }
      },
      "source": [
        "df.describe().T"
      ],
      "execution_count": 0,
      "outputs": [
        {
          "output_type": "execute_result",
          "data": {
            "text/html": [
              "<div>\n",
              "<style scoped>\n",
              "    .dataframe tbody tr th:only-of-type {\n",
              "        vertical-align: middle;\n",
              "    }\n",
              "\n",
              "    .dataframe tbody tr th {\n",
              "        vertical-align: top;\n",
              "    }\n",
              "\n",
              "    .dataframe thead th {\n",
              "        text-align: right;\n",
              "    }\n",
              "</style>\n",
              "<table border=\"1\" class=\"dataframe\">\n",
              "  <thead>\n",
              "    <tr style=\"text-align: right;\">\n",
              "      <th></th>\n",
              "      <th>count</th>\n",
              "      <th>mean</th>\n",
              "      <th>std</th>\n",
              "      <th>min</th>\n",
              "      <th>25%</th>\n",
              "      <th>50%</th>\n",
              "      <th>75%</th>\n",
              "      <th>max</th>\n",
              "    </tr>\n",
              "  </thead>\n",
              "  <tbody>\n",
              "    <tr>\n",
              "      <th>AAPL-corpbond</th>\n",
              "      <td>1678.0</td>\n",
              "      <td>105.331883</td>\n",
              "      <td>6.569989</td>\n",
              "      <td>91.360000</td>\n",
              "      <td>101.130000</td>\n",
              "      <td>106.675000</td>\n",
              "      <td>109.050000</td>\n",
              "      <td>120.410000</td>\n",
              "    </tr>\n",
              "    <tr>\n",
              "      <th>HD-corpbond</th>\n",
              "      <td>1678.0</td>\n",
              "      <td>109.188546</td>\n",
              "      <td>9.504278</td>\n",
              "      <td>89.460000</td>\n",
              "      <td>101.870000</td>\n",
              "      <td>111.880000</td>\n",
              "      <td>115.027500</td>\n",
              "      <td>129.560000</td>\n",
              "    </tr>\n",
              "    <tr>\n",
              "      <th>IBM-corpbond</th>\n",
              "      <td>1678.0</td>\n",
              "      <td>104.494142</td>\n",
              "      <td>3.751801</td>\n",
              "      <td>97.860000</td>\n",
              "      <td>101.692500</td>\n",
              "      <td>104.765000</td>\n",
              "      <td>106.197500</td>\n",
              "      <td>114.160000</td>\n",
              "    </tr>\n",
              "    <tr>\n",
              "      <th>NKE-corpbond</th>\n",
              "      <td>1678.0</td>\n",
              "      <td>109.723391</td>\n",
              "      <td>10.701541</td>\n",
              "      <td>88.670000</td>\n",
              "      <td>102.125000</td>\n",
              "      <td>111.135000</td>\n",
              "      <td>115.970000</td>\n",
              "      <td>134.510000</td>\n",
              "    </tr>\n",
              "    <tr>\n",
              "      <th>AAPL-stock</th>\n",
              "      <td>1678.0</td>\n",
              "      <td>230.509441</td>\n",
              "      <td>91.309121</td>\n",
              "      <td>88.089813</td>\n",
              "      <td>162.368700</td>\n",
              "      <td>203.014119</td>\n",
              "      <td>297.926176</td>\n",
              "      <td>517.370681</td>\n",
              "    </tr>\n",
              "    <tr>\n",
              "      <th>HD-stock</th>\n",
              "      <td>1678.0</td>\n",
              "      <td>206.465727</td>\n",
              "      <td>76.021049</td>\n",
              "      <td>99.303447</td>\n",
              "      <td>145.148096</td>\n",
              "      <td>192.895903</td>\n",
              "      <td>273.657868</td>\n",
              "      <td>372.617919</td>\n",
              "    </tr>\n",
              "    <tr>\n",
              "      <th>IBM-stock</th>\n",
              "      <td>1678.0</td>\n",
              "      <td>86.192638</td>\n",
              "      <td>7.349587</td>\n",
              "      <td>62.988042</td>\n",
              "      <td>82.299421</td>\n",
              "      <td>86.288200</td>\n",
              "      <td>91.228774</td>\n",
              "      <td>102.851375</td>\n",
              "    </tr>\n",
              "    <tr>\n",
              "      <th>NKE-stock</th>\n",
              "      <td>1678.0</td>\n",
              "      <td>196.926293</td>\n",
              "      <td>62.410174</td>\n",
              "      <td>93.497754</td>\n",
              "      <td>155.202186</td>\n",
              "      <td>187.839016</td>\n",
              "      <td>234.076894</td>\n",
              "      <td>355.103147</td>\n",
              "    </tr>\n",
              "  </tbody>\n",
              "</table>\n",
              "</div>"
            ],
            "text/plain": [
              "                count        mean  ...         75%         max\n",
              "AAPL-corpbond  1678.0  105.331883  ...  109.050000  120.410000\n",
              "HD-corpbond    1678.0  109.188546  ...  115.027500  129.560000\n",
              "IBM-corpbond   1678.0  104.494142  ...  106.197500  114.160000\n",
              "NKE-corpbond   1678.0  109.723391  ...  115.970000  134.510000\n",
              "AAPL-stock     1678.0  230.509441  ...  297.926176  517.370681\n",
              "HD-stock       1678.0  206.465727  ...  273.657868  372.617919\n",
              "IBM-stock      1678.0   86.192638  ...   91.228774  102.851375\n",
              "NKE-stock      1678.0  196.926293  ...  234.076894  355.103147\n",
              "\n",
              "[8 rows x 8 columns]"
            ]
          },
          "metadata": {
            "tags": []
          },
          "execution_count": 10
        }
      ]
    },
    {
      "cell_type": "code",
      "metadata": {
        "id": "_WdYcMYMLKcd",
        "colab_type": "code",
        "colab": {}
      },
      "source": [
        "#Sorting the data based on date in ascending order\n",
        "\n",
        "df = df.sort_values(by='Date', ascending= True)"
      ],
      "execution_count": 0,
      "outputs": []
    },
    {
      "cell_type": "markdown",
      "metadata": {
        "id": "d7VwZUbUavPh",
        "colab_type": "text"
      },
      "source": [
        "4) Calculating the returns for each year\n"
      ]
    },
    {
      "cell_type": "code",
      "metadata": {
        "id": "uG-EFed1jwfG",
        "colab_type": "code",
        "outputId": "d60a68f5-1f6d-4e26-c3a5-89ca825cf01d",
        "colab": {
          "base_uri": "https://localhost:8080/",
          "height": 170
        }
      },
      "source": [
        "#Retrieve the last row in dataset\n",
        "lastrow= df.iloc[-1,]\n",
        "lastrow\n",
        "#Retrieve the first row in dataset\n",
        "firstrow = df.iloc[0,]\n",
        "#Combining the data\n",
        "rge = pd.concat((lastrow,firstrow),axis=1)\n",
        "#Calculating the total return for all the assets\n",
        "rge['Returns'] = round(((lastrow.divide(firstrow)) -1 )*100,2)\n",
        "\n",
        "#Storing only bond name and the return column\n",
        "\n",
        "rge1 = rge.iloc[:,2]\n",
        "rge1"
      ],
      "execution_count": 0,
      "outputs": [
        {
          "output_type": "execute_result",
          "data": {
            "text/plain": [
              "AAPL-corpbond     20.21\n",
              "HD-corpbond       29.18\n",
              "IBM-corpbond      14.09\n",
              "NKE-corpbond      33.41\n",
              "AAPL-stock       417.37\n",
              "HD-stock         242.86\n",
              "IBM-stock        -15.43\n",
              "NKE-stock        254.19\n",
              "Name: Returns, dtype: float64"
            ]
          },
          "metadata": {
            "tags": []
          },
          "execution_count": 12
        }
      ]
    },
    {
      "cell_type": "code",
      "metadata": {
        "id": "itU8X6upnw2H",
        "colab_type": "code",
        "colab": {}
      },
      "source": [
        "#Creating subsets to retrive data for each year\n",
        "df_2019 = df.loc['2019-01-01':'2019-12-31',:]\n",
        "df_2018 = df.loc['2018-01-01':'2018-12-31',:]\n",
        "df_2017 = df.loc['2017-01-01':'2017-12-31',:]\n"
      ],
      "execution_count": 0,
      "outputs": []
    },
    {
      "cell_type": "code",
      "metadata": {
        "id": "fEVikK7qp0HJ",
        "colab_type": "code",
        "colab": {}
      },
      "source": [
        "#Calculating returns for 2019\n",
        "lastrow= df_2019.iloc[-1,]\n",
        "firstrow = df_2019.iloc[0,]\n",
        "rge_2019 = pd.concat((lastrow,firstrow),axis=1)\n",
        "rge_2019['Returns_2019'] = round(((lastrow.divide(firstrow)) -1 )*100,2)\n",
        "rge_2019 = rge_2019.iloc[:,2]\n"
      ],
      "execution_count": 0,
      "outputs": []
    },
    {
      "cell_type": "code",
      "metadata": {
        "id": "ONGK5yZ-pstR",
        "colab_type": "code",
        "colab": {}
      },
      "source": [
        "#Calculating returns for 2018\n",
        "lastrow= df_2018.iloc[-1,]\n",
        "firstrow = df_2018.iloc[0,]\n",
        "rge_2018 = pd.concat((lastrow,firstrow),axis=1)\n",
        "rge_2018['Returns_2018'] = round(((lastrow.divide(firstrow)) -1 )*100,2)\n",
        "rge_2018 = rge_2018.iloc[:,2]\n"
      ],
      "execution_count": 0,
      "outputs": []
    },
    {
      "cell_type": "code",
      "metadata": {
        "id": "1sqk0lNTp58v",
        "colab_type": "code",
        "outputId": "345b28d8-44ac-4aec-d221-57a52a43ec77",
        "colab": {
          "base_uri": "https://localhost:8080/",
          "height": 170
        }
      },
      "source": [
        "#Calculating returns for 2017\n",
        "lastrow= df_2017.iloc[-1,]\n",
        "firstrow = df_2017.iloc[0,]\n",
        "rge_2017 = pd.concat((lastrow,firstrow),axis=1)\n",
        "rge_2017['Returns_2017'] = round(((lastrow.divide(firstrow)) -1 )*100,2)\n",
        "rge_2017 = rge_2017.iloc[:,2]\n",
        "rge_2017"
      ],
      "execution_count": 0,
      "outputs": [
        {
          "output_type": "execute_result",
          "data": {
            "text/plain": [
              "AAPL-corpbond     4.00\n",
              "HD-corpbond       5.52\n",
              "IBM-corpbond      2.26\n",
              "NKE-corpbond      6.58\n",
              "AAPL-stock       48.04\n",
              "HD-stock         44.37\n",
              "IBM-stock        -4.68\n",
              "NKE-stock        21.94\n",
              "Name: Returns_2017, dtype: float64"
            ]
          },
          "metadata": {
            "tags": []
          },
          "execution_count": 15
        }
      ]
    },
    {
      "cell_type": "markdown",
      "metadata": {
        "id": "UuDhmQmSZIZi",
        "colab_type": "text"
      },
      "source": [
        "Combining all the return values and forming a dictionary\n"
      ]
    },
    {
      "cell_type": "code",
      "metadata": {
        "id": "dKhPg2RbI9mo",
        "colab_type": "code",
        "outputId": "ffcbee0d-f99b-4bc0-a88a-369a9c5df959",
        "colab": {
          "base_uri": "https://localhost:8080/",
          "height": 153
        }
      },
      "source": [
        "frame = pd.concat([rge1,rge_2019,rge_2018,rge_2017],axis=1).T\n",
        "investment_returns= {}\n",
        "investment_returns = frame.to_dict('list')\n",
        "investment_returns"
      ],
      "execution_count": 0,
      "outputs": [
        {
          "output_type": "execute_result",
          "data": {
            "text/plain": [
              "{'AAPL-corpbond': [20.21, 10.35, -0.91, 4.0],\n",
              " 'AAPL-stock': [417.37, 88.74, -7.05, 48.04],\n",
              " 'HD-corpbond': [29.18, 12.6, -1.64, 5.52],\n",
              " 'HD-stock': [242.86, 30.11, -6.56, 44.37],\n",
              " 'IBM-corpbond': [14.09, 7.63, -0.78, 2.26],\n",
              " 'IBM-stock': [-15.43, 21.92, -22.97, -4.68],\n",
              " 'NKE-corpbond': [33.41, 16.21, -3.05, 6.58],\n",
              " 'NKE-stock': [254.19, 38.24, 18.09, 21.94]}"
            ]
          },
          "metadata": {
            "tags": []
          },
          "execution_count": 16
        }
      ]
    },
    {
      "cell_type": "markdown",
      "metadata": {
        "id": "VGJtWYJGZC1r",
        "colab_type": "text"
      },
      "source": [
        "5) Class to check the bonds that are performing better than NKE-corpbond\n"
      ]
    },
    {
      "cell_type": "code",
      "metadata": {
        "id": "uimSoaF3h-7E",
        "colab_type": "code",
        "outputId": "e3fe5c1f-4bb3-497a-c8c8-1539de87b36f",
        "colab": {
          "base_uri": "https://localhost:8080/",
          "height": 153
        }
      },
      "source": [
        "#Creating a dictionary containing return values of year 2019\n",
        "rge_dict = rge_2019.to_dict()\n",
        "\n",
        "rge_dict\n"
      ],
      "execution_count": 0,
      "outputs": [
        {
          "output_type": "execute_result",
          "data": {
            "text/plain": [
              "{'AAPL-corpbond': 10.35,\n",
              " 'AAPL-stock': 88.74,\n",
              " 'HD-corpbond': 12.6,\n",
              " 'HD-stock': 30.11,\n",
              " 'IBM-corpbond': 7.63,\n",
              " 'IBM-stock': 21.92,\n",
              " 'NKE-corpbond': 16.21,\n",
              " 'NKE-stock': 38.24}"
            ]
          },
          "metadata": {
            "tags": []
          },
          "execution_count": 17
        }
      ]
    },
    {
      "cell_type": "code",
      "metadata": {
        "id": "79m_Lyl5dxDy",
        "colab_type": "code",
        "outputId": "cffe466d-330d-46cc-cb17-9b446482e967",
        "colab": {
          "base_uri": "https://localhost:8080/",
          "height": 85
        }
      },
      "source": [
        "class Winner():\n",
        "\n",
        "  def winner_check(d):\n",
        "    for bond in d.keys():\n",
        "      if d[bond] > d['NKE-corpbond']:\n",
        "        print(bond)\n",
        "\n",
        "Winners= Winner.winner_check(rge_dict)"
      ],
      "execution_count": 0,
      "outputs": [
        {
          "output_type": "stream",
          "text": [
            "AAPL-stock\n",
            "HD-stock\n",
            "IBM-stock\n",
            "NKE-stock\n"
          ],
          "name": "stdout"
        }
      ]
    },
    {
      "cell_type": "markdown",
      "metadata": {
        "id": "v3yQ_dwKY5dk",
        "colab_type": "text"
      },
      "source": [
        "6) Class to check the bonds that are performing worse that NKE-corpbond\n",
        "\n",
        "\n"
      ]
    },
    {
      "cell_type": "code",
      "metadata": {
        "id": "z1x5n53tY37t",
        "colab_type": "code",
        "outputId": "9b6a491f-534d-470c-dae0-080dea31ec25",
        "colab": {
          "base_uri": "https://localhost:8080/",
          "height": 68
        }
      },
      "source": [
        "class Loser():\n",
        "\n",
        "  def loser_check(d):\n",
        "    for bond in d.keys():\n",
        "      if d[bond] < d['NKE-corpbond']:\n",
        "        print(bond)\n",
        "\n",
        "Lossers= Loser.loser_check(rge_dict)"
      ],
      "execution_count": 0,
      "outputs": [
        {
          "output_type": "stream",
          "text": [
            "AAPL-corpbond\n",
            "HD-corpbond\n",
            "IBM-corpbond\n"
          ],
          "name": "stdout"
        }
      ]
    },
    {
      "cell_type": "markdown",
      "metadata": {
        "id": "U-xNAx8w-Ta5",
        "colab_type": "text"
      },
      "source": [
        "7) Class that takes a certain list of tickers and outputs the index of an \"equally-weighted\" portfolio "
      ]
    },
    {
      "cell_type": "code",
      "metadata": {
        "id": "xCFTPe06aiWA",
        "colab_type": "code",
        "colab": {}
      },
      "source": [
        "ticker = ['AAPL-corpbond', 'IBM-stock','Something']"
      ],
      "execution_count": 0,
      "outputs": []
    },
    {
      "cell_type": "code",
      "metadata": {
        "id": "9nrJ1SEG_DEx",
        "colab_type": "code",
        "outputId": "578ccb44-b8db-4694-f8a2-40afa2bd2cec",
        "colab": {
          "base_uri": "https://localhost:8080/",
          "height": 34
        }
      },
      "source": [
        "import numpy as np\n",
        "class Portfolio():\n",
        "\n",
        "  in_tickers= []\n",
        "\n",
        "  for i in ticker:\n",
        "    if i in df.columns:\n",
        "      in_tickers.append(i)\n",
        "  print(in_tickers)\n",
        "\n",
        "  def equal_weight(self):\n",
        "    ew = df.loc[:,self.in_tickers].apply(lambda elem: np.divide(elem,len(self.in_tickers)))\n",
        "    print(ew)\n",
        "\n",
        "  def print_plot(self):\n",
        "    df.loc[:,self.in_tickers].plot()\n",
        "\n",
        "\n",
        "    "
      ],
      "execution_count": 0,
      "outputs": [
        {
          "output_type": "stream",
          "text": [
            "['AAPL-corpbond', 'IBM-stock']\n"
          ],
          "name": "stdout"
        }
      ]
    },
    {
      "cell_type": "code",
      "metadata": {
        "id": "ACCoSYF8Lg0X",
        "colab_type": "code",
        "outputId": "09934030-f321-4607-c43c-bb742d2d5cb4",
        "colab": {
          "base_uri": "https://localhost:8080/",
          "height": 272
        }
      },
      "source": [
        "p = Portfolio()\n",
        "p.equal_weight()"
      ],
      "execution_count": 0,
      "outputs": [
        {
          "output_type": "stream",
          "text": [
            "            AAPL-corpbond  IBM-stock\n",
            "Date                                \n",
            "2013-05-03         50.000  50.000000\n",
            "2013-05-06         49.740  49.577044\n",
            "2013-05-07         49.700  49.784872\n",
            "2013-05-08         49.645  50.310506\n",
            "2013-05-09         49.605  49.922420\n",
            "...                   ...        ...\n",
            "2019-12-24         59.945  42.582241\n",
            "2019-12-26         60.055  42.560159\n",
            "2019-12-27         60.175  42.673728\n",
            "2019-12-30         60.115  41.897667\n",
            "2019-12-31         60.105  42.285695\n",
            "\n",
            "[1678 rows x 2 columns]\n"
          ],
          "name": "stdout"
        }
      ]
    },
    {
      "cell_type": "code",
      "metadata": {
        "id": "FHk48FfAV08u",
        "colab_type": "code",
        "outputId": "8504e91e-e30d-40ca-ac86-d9c3173ae9d6",
        "colab": {
          "base_uri": "https://localhost:8080/",
          "height": 269
        }
      },
      "source": [
        "p.print_plot()"
      ],
      "execution_count": 0,
      "outputs": [
        {
          "output_type": "display_data",
          "data": {
            "image/png": "[encoded data removed]",
            "text/plain": [
              "<Figure size 432x288 with 1 Axes>"
            ]
          },
          "metadata": {
            "tags": []
          }
        }
      ]
    }
  ]
}